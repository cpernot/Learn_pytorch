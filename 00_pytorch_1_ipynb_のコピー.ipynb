{
  "cells": [
    {
      "cell_type": "markdown",
      "metadata": {
        "id": "view-in-github",
        "colab_type": "text"
      },
      "source": [
        "<a href=\"https://colab.research.google.com/github/cpernot/Learn_pytorch/blob/main/00_pytorch_1_ipynb_%E3%81%AE%E3%82%B3%E3%83%94%E3%83%BC.ipynb\" target=\"_parent\"><img src=\"https://colab.research.google.com/assets/colab-badge.svg\" alt=\"Open In Colab\"/></a>"
      ]
    },
    {
      "cell_type": "code",
      "execution_count": 1,
      "metadata": {
        "colab": {
          "base_uri": "https://localhost:8080/"
        },
        "id": "wRKRyRBcWzIj",
        "outputId": "2a6970d4-8195-4664-9f37-cd66bcab6dbe"
      },
      "outputs": [
        {
          "output_type": "stream",
          "name": "stdout",
          "text": [
            "hello\n"
          ]
        }
      ],
      "source": [
        "print (\"hello\")\n"
      ]
    },
    {
      "cell_type": "code",
      "execution_count": 2,
      "metadata": {
        "id": "4Gwp8lB9W9V9",
        "colab": {
          "base_uri": "https://localhost:8080/"
        },
        "outputId": "6f1d3c56-a067-45a6-bfc8-216e2f1836c8"
      },
      "outputs": [
        {
          "output_type": "stream",
          "name": "stdout",
          "text": [
            "Sun Jan 26 07:00:25 2025       \n",
            "+---------------------------------------------------------------------------------------+\n",
            "| NVIDIA-SMI 535.104.05             Driver Version: 535.104.05   CUDA Version: 12.2     |\n",
            "|-----------------------------------------+----------------------+----------------------+\n",
            "| GPU  Name                 Persistence-M | Bus-Id        Disp.A | Volatile Uncorr. ECC |\n",
            "| Fan  Temp   Perf          Pwr:Usage/Cap |         Memory-Usage | GPU-Util  Compute M. |\n",
            "|                                         |                      |               MIG M. |\n",
            "|=========================================+======================+======================|\n",
            "|   0  Tesla T4                       Off | 00000000:00:04.0 Off |                    0 |\n",
            "| N/A   43C    P8               9W /  70W |      0MiB / 15360MiB |      0%      Default |\n",
            "|                                         |                      |                  N/A |\n",
            "+-----------------------------------------+----------------------+----------------------+\n",
            "                                                                                         \n",
            "+---------------------------------------------------------------------------------------+\n",
            "| Processes:                                                                            |\n",
            "|  GPU   GI   CI        PID   Type   Process name                            GPU Memory |\n",
            "|        ID   ID                                                             Usage      |\n",
            "|=======================================================================================|\n",
            "|  No running processes found                                                           |\n",
            "+---------------------------------------------------------------------------------------+\n"
          ]
        }
      ],
      "source": [
        "!nvidia-smi"
      ]
    },
    {
      "cell_type": "code",
      "source": [
        "import torch\n",
        "print(torch.__version__)\n",
        "import pandas as pd\n",
        "import numpy as np\n",
        "import matplotlib.pyplot as plt"
      ],
      "metadata": {
        "colab": {
          "base_uri": "https://localhost:8080/"
        },
        "id": "lASbLdOxYWmv",
        "outputId": "f4141533-dc98-45d3-91bb-a251da3ffcd6"
      },
      "execution_count": 3,
      "outputs": [
        {
          "output_type": "stream",
          "name": "stdout",
          "text": [
            "2.5.1+cu121\n"
          ]
        }
      ]
    },
    {
      "cell_type": "code",
      "source": [],
      "metadata": {
        "id": "hEb51oYlYw3C"
      },
      "execution_count": 3,
      "outputs": []
    },
    {
      "cell_type": "code",
      "source": [
        "## Introduction to Tensors"
      ],
      "metadata": {
        "id": "tU89kFRVxmYr"
      },
      "execution_count": 4,
      "outputs": []
    },
    {
      "cell_type": "code",
      "source": [
        "scalar = torch.tensor(7)\n",
        "scalar"
      ],
      "metadata": {
        "colab": {
          "base_uri": "https://localhost:8080/"
        },
        "id": "aLvPOz_Fx7E8",
        "outputId": "fda7753c-1553-4f2a-9f44-e28e8b49afed"
      },
      "execution_count": 5,
      "outputs": [
        {
          "output_type": "execute_result",
          "data": {
            "text/plain": [
              "tensor(7)"
            ]
          },
          "metadata": {},
          "execution_count": 5
        }
      ]
    },
    {
      "cell_type": "code",
      "source": [
        "scalar.ndim"
      ],
      "metadata": {
        "colab": {
          "base_uri": "https://localhost:8080/"
        },
        "id": "D2G6zftGyCUD",
        "outputId": "bbc4da75-3921-4f0e-e770-6e8f76946a5e"
      },
      "execution_count": 6,
      "outputs": [
        {
          "output_type": "execute_result",
          "data": {
            "text/plain": [
              "0"
            ]
          },
          "metadata": {},
          "execution_count": 6
        }
      ]
    },
    {
      "cell_type": "code",
      "source": [
        "scalar.item()"
      ],
      "metadata": {
        "colab": {
          "base_uri": "https://localhost:8080/"
        },
        "id": "lmKygJd3yGFH",
        "outputId": "cf63b731-11f1-468b-b4b1-4c067586321f"
      },
      "execution_count": 7,
      "outputs": [
        {
          "output_type": "execute_result",
          "data": {
            "text/plain": [
              "7"
            ]
          },
          "metadata": {},
          "execution_count": 7
        }
      ]
    },
    {
      "cell_type": "code",
      "source": [
        "MATRIX = torch.tensor([[1,1],[2,2]])\n",
        "print(MATRIX.ndim)\n",
        "print(MATRIX.shape)\n",
        "TENSOR =torch.tensor([[[1,2,3,4],[2,2,2,2],[3,3,3,3]],\n",
        "                      [[1,2,3,4],[2,2,2,2],[3,3,3,3]]])\n",
        "print(TENSOR.ndim)\n",
        "print(TENSOR.shape)"
      ],
      "metadata": {
        "colab": {
          "base_uri": "https://localhost:8080/"
        },
        "id": "36aPHMDdyb6T",
        "outputId": "8c61919c-5f94-43c5-d3dc-a3ea7304d0ab"
      },
      "execution_count": 8,
      "outputs": [
        {
          "output_type": "stream",
          "name": "stdout",
          "text": [
            "2\n",
            "torch.Size([2, 2])\n",
            "3\n",
            "torch.Size([2, 3, 4])\n"
          ]
        }
      ]
    },
    {
      "cell_type": "markdown",
      "source": [
        "###Random Tensors"
      ],
      "metadata": {
        "id": "W-I2X4-2CODq"
      }
    },
    {
      "cell_type": "markdown",
      "source": [
        "## #Create a random tensor of size (3,4)"
      ],
      "metadata": {
        "id": "CGCYmNpwFUQ7"
      }
    },
    {
      "cell_type": "code",
      "source": [
        "random_tensor = torch.rand(2,4,3)\n",
        "random_tensor\n",
        "print(random_tensor.ndim)\n",
        "print(random_tensor.shape)"
      ],
      "metadata": {
        "colab": {
          "base_uri": "https://localhost:8080/"
        },
        "id": "IdvZXKTzFtri",
        "outputId": "85e8913f-f344-4c2f-c69f-8c7f39cb5c67"
      },
      "execution_count": 9,
      "outputs": [
        {
          "output_type": "stream",
          "name": "stdout",
          "text": [
            "3\n",
            "torch.Size([2, 4, 3])\n"
          ]
        }
      ]
    },
    {
      "cell_type": "code",
      "source": [
        "mytensor = torch.rand(size=(1,2))\n",
        "print(mytensor)"
      ],
      "metadata": {
        "colab": {
          "base_uri": "https://localhost:8080/"
        },
        "id": "w867kVkrF7kr",
        "outputId": "ce407cc4-192d-4757-cb58-5df4991c33f3"
      },
      "execution_count": 10,
      "outputs": [
        {
          "output_type": "stream",
          "name": "stdout",
          "text": [
            "tensor([[0.8319, 0.4494]])\n"
          ]
        }
      ]
    },
    {
      "cell_type": "code",
      "source": [
        "zeros = torch.zeros(3,3,3)\n",
        "zeros.dtype\n",
        "ones = torch.ones(2,2,1)\n",
        "ones"
      ],
      "metadata": {
        "colab": {
          "base_uri": "https://localhost:8080/"
        },
        "id": "7ZeSFh2UGL3M",
        "outputId": "67a14a95-080d-4b5d-8a25-d5ceaf8aa1c7"
      },
      "execution_count": 11,
      "outputs": [
        {
          "output_type": "execute_result",
          "data": {
            "text/plain": [
              "tensor([[[1.],\n",
              "         [1.]],\n",
              "\n",
              "        [[1.],\n",
              "         [1.]]])"
            ]
          },
          "metadata": {},
          "execution_count": 11
        }
      ]
    },
    {
      "cell_type": "code",
      "source": [
        "#creating a range of Tensor\n",
        "torch.arange(1,11)\n",
        "onetoten = torch.arange(start = 0, end = 10, step = 2)\n",
        "onetoten"
      ],
      "metadata": {
        "colab": {
          "base_uri": "https://localhost:8080/"
        },
        "id": "BQGYwlCSHo_X",
        "outputId": "f2ca334d-ab3f-4cd9-8334-f48607085edb"
      },
      "execution_count": 12,
      "outputs": [
        {
          "output_type": "execute_result",
          "data": {
            "text/plain": [
              "tensor([0, 2, 4, 6, 8])"
            ]
          },
          "metadata": {},
          "execution_count": 12
        }
      ]
    },
    {
      "cell_type": "code",
      "source": [
        "#creating tensors like\n",
        "ten_zeros = torch.zeros_like(input =onetoten)\n",
        "ten_zeros"
      ],
      "metadata": {
        "colab": {
          "base_uri": "https://localhost:8080/"
        },
        "id": "8IvaqF5WIGub",
        "outputId": "611d21bd-0ea8-4eb1-9e9b-ae7083b41b94"
      },
      "execution_count": 13,
      "outputs": [
        {
          "output_type": "execute_result",
          "data": {
            "text/plain": [
              "tensor([0, 0, 0, 0, 0])"
            ]
          },
          "metadata": {},
          "execution_count": 13
        }
      ]
    },
    {
      "cell_type": "markdown",
      "source": [
        "#Tensor Datatype\n",
        "***Note::: Tensor datatypes is one of the 3 big errors in Pytorch\n",
        "(the other two are: device, shape)"
      ],
      "metadata": {
        "id": "L7fihjWoI2nk"
      }
    },
    {
      "cell_type": "code",
      "source": [
        "float_32_tensor = torch.tensor([3.0001,6,9],\n",
        "                               dtype = None,\n",
        "                               device=None,\n",
        "                               requires_grad = False)\n",
        "float_16_tensor = float_32_tensor.type(torch.float16)\n",
        "float_16_tensor.dtype"
      ],
      "metadata": {
        "colab": {
          "base_uri": "https://localhost:8080/"
        },
        "id": "8almwS3DJQG-",
        "outputId": "bb0040d0-f3a6-41a2-95bd-d05548d542cf"
      },
      "execution_count": 14,
      "outputs": [
        {
          "output_type": "execute_result",
          "data": {
            "text/plain": [
              "torch.float16"
            ]
          },
          "metadata": {},
          "execution_count": 14
        }
      ]
    },
    {
      "cell_type": "code",
      "source": [
        "float_32_tensor * float_16_tensor"
      ],
      "metadata": {
        "colab": {
          "base_uri": "https://localhost:8080/"
        },
        "id": "K5vltX85JdCu",
        "outputId": "5e2afb4d-55b6-4ef3-c9b2-0649c43ebc6d"
      },
      "execution_count": 15,
      "outputs": [
        {
          "output_type": "execute_result",
          "data": {
            "text/plain": [
              "tensor([ 9.0003, 36.0000, 81.0000])"
            ]
          },
          "metadata": {},
          "execution_count": 15
        }
      ]
    },
    {
      "cell_type": "code",
      "source": [
        "int_32_tensor = torch.tensor([3.0031,6,9], dtype = torch.int32)\n",
        "int_32_tensor"
      ],
      "metadata": {
        "colab": {
          "base_uri": "https://localhost:8080/"
        },
        "id": "72ScbA9TMCec",
        "outputId": "5af4a327-edfe-4dc1-afc1-71f1d7ac847d"
      },
      "execution_count": 16,
      "outputs": [
        {
          "output_type": "execute_result",
          "data": {
            "text/plain": [
              "tensor([3, 6, 9], dtype=torch.int32)"
            ]
          },
          "metadata": {},
          "execution_count": 16
        }
      ]
    },
    {
      "cell_type": "code",
      "source": [
        "some_tensor = torch.rand(3,4)\n",
        "some_tensor"
      ],
      "metadata": {
        "colab": {
          "base_uri": "https://localhost:8080/"
        },
        "id": "2i32eikClAny",
        "outputId": "eac87338-7b24-45e0-92ad-0f7a4cd9b4c7"
      },
      "execution_count": 17,
      "outputs": [
        {
          "output_type": "execute_result",
          "data": {
            "text/plain": [
              "tensor([[0.0144, 0.6739, 0.9827, 0.6316],\n",
              "        [0.9730, 0.8879, 0.7779, 0.5969],\n",
              "        [0.7837, 0.2839, 0.5779, 0.5833]])"
            ]
          },
          "metadata": {},
          "execution_count": 17
        }
      ]
    },
    {
      "cell_type": "code",
      "source": [
        "print(some_tensor)\n",
        "print(f'Data type of tensor: {some_tensor.dtype}')\n",
        "print(f\"Size of tensor: {some_tensor.size}\")\n",
        "print(f\"Shape of tensor: {some_tensor.shape}\")\n",
        "print(f\"Device of tensor: {some_tensor.device}\")"
      ],
      "metadata": {
        "colab": {
          "base_uri": "https://localhost:8080/"
        },
        "id": "FEVq_AJhlbDc",
        "outputId": "8f0a9a57-7722-4619-c1ba-7c49cba76984"
      },
      "execution_count": 18,
      "outputs": [
        {
          "output_type": "stream",
          "name": "stdout",
          "text": [
            "tensor([[0.0144, 0.6739, 0.9827, 0.6316],\n",
            "        [0.9730, 0.8879, 0.7779, 0.5969],\n",
            "        [0.7837, 0.2839, 0.5779, 0.5833]])\n",
            "Data type of tensor: torch.float32\n",
            "Size of tensor: <built-in method size of Tensor object at 0x799a23504410>\n",
            "Shape of tensor: torch.Size([3, 4])\n",
            "Device of tensor: cpu\n"
          ]
        }
      ]
    },
    {
      "cell_type": "code",
      "source": [
        "#Tensor operations\n",
        "#include addition, substraction, multiplication(element-wise), division, Matrix multiplication\n",
        "tensor = torch.tensor([1,2,3])\n",
        "print(tensor + 10)\n",
        "print(tensor * 2)\n",
        "print(tensor -10)\n",
        "print(torch.mul(tensor,10))\n",
        "#Check Math is Fun and check Matrix multiplication(dot product)\n",
        "print(torch.dot(tensor,tensor))\n",
        "print(torch.matmul(tensor,tensor))\n",
        "print(tensor @ tensor)\n",
        "tensor * tensor\n",
        "# %%time\n",
        "value = 0\n",
        "for i in range(len(tensor)):\n",
        "  value += tensor[i]*tensor[i]\n",
        "print(value)\n",
        "\n"
      ],
      "metadata": {
        "colab": {
          "base_uri": "https://localhost:8080/"
        },
        "id": "0iGK9GQPlx1r",
        "outputId": "98fba2e2-1059-4088-c39f-cc9c8416acf8"
      },
      "execution_count": 19,
      "outputs": [
        {
          "output_type": "stream",
          "name": "stdout",
          "text": [
            "tensor([11, 12, 13])\n",
            "tensor([2, 4, 6])\n",
            "tensor([-9, -8, -7])\n",
            "tensor([10, 20, 30])\n",
            "tensor(14)\n",
            "tensor(14)\n",
            "tensor(14)\n",
            "tensor(14)\n"
          ]
        }
      ]
    },
    {
      "cell_type": "code",
      "source": [
        "#Common error is shape error\n",
        "#Two rules for matrix multiplication\n",
        "#inner dimensions must match\n",
        "#result matrix has shape of outer dimensions\n",
        "print(torch.rand(3,2))\n",
        "print(torch.rand(2,3))\n",
        "print(torch.matmul(torch.rand(1,2),torch.rand(2,1)))"
      ],
      "metadata": {
        "colab": {
          "base_uri": "https://localhost:8080/"
        },
        "id": "4IVhM1EonHp-",
        "outputId": "4292d6b0-1610-4b24-a724-e2f6343cf681"
      },
      "execution_count": 20,
      "outputs": [
        {
          "output_type": "stream",
          "name": "stdout",
          "text": [
            "tensor([[0.4549, 0.2119],\n",
            "        [0.6164, 0.9948],\n",
            "        [0.2451, 0.9660]])\n",
            "tensor([[0.4466, 0.8415, 0.9117],\n",
            "        [0.7713, 0.6695, 0.6594]])\n",
            "tensor([[0.0791]])\n"
          ]
        }
      ]
    },
    {
      "cell_type": "code",
      "source": [
        "tensor_A = torch.tensor([[1,2],\n",
        "                        [3,4],\n",
        "                        [5,6]])\n",
        "tensor_B = torch.tensor([[7,10],\n",
        "                        [8,11],\n",
        "                        [9,12]])\n",
        "# transpose to switch axes or dimension of tensor\n",
        "tensor_B.T, tensor_B.T.shape\n",
        "torch.mm(tensor_A, tensor_B.T) # same as .matmul\n",
        "print(f\"Original Shapes: Tensor_A = {tensor_A.shape}, tensor_B = { tensor_B.shape}\")\n",
        "print(f\"New Shapes: Tensor_A = {tensor_A.shape}, tensor_B = { tensor_B.T.shape}\")\n",
        "print(\"Output:\")\n",
        "print(torch.mm(tensor_A,tensor_B.T))\n"
      ],
      "metadata": {
        "colab": {
          "base_uri": "https://localhost:8080/"
        },
        "id": "EWyXet4YrHMb",
        "outputId": "470228af-9a34-48fb-c941-cdc39f6ac1c6"
      },
      "execution_count": 21,
      "outputs": [
        {
          "output_type": "stream",
          "name": "stdout",
          "text": [
            "Original Shapes: Tensor_A = torch.Size([3, 2]), tensor_B = torch.Size([3, 2])\n",
            "New Shapes: Tensor_A = torch.Size([3, 2]), tensor_B = torch.Size([2, 3])\n",
            "Output:\n",
            "tensor([[ 27,  30,  33],\n",
            "        [ 61,  68,  75],\n",
            "        [ 95, 106, 117]])\n"
          ]
        }
      ]
    },
    {
      "cell_type": "code",
      "source": [
        "#finding min, max, mean, sum, etc (tensor aggregation)\n",
        "x = torch.arange(0,100,10)\n",
        "print(x.dtype)\n",
        "torch.max(x),x.min()\n",
        "torch.mean(x.type(torch.float32)),x.type(torch.float32).mean()"
      ],
      "metadata": {
        "colab": {
          "base_uri": "https://localhost:8080/"
        },
        "id": "l3eKGv9fGxjR",
        "outputId": "9fbc0e5a-8c84-49cb-f6d5-7391a6c97aaf"
      },
      "execution_count": 22,
      "outputs": [
        {
          "output_type": "stream",
          "name": "stdout",
          "text": [
            "torch.int64\n"
          ]
        },
        {
          "output_type": "execute_result",
          "data": {
            "text/plain": [
              "(tensor(45.), tensor(45.))"
            ]
          },
          "metadata": {},
          "execution_count": 22
        }
      ]
    },
    {
      "cell_type": "code",
      "source": [
        "torch.sum(x), x.sum()"
      ],
      "metadata": {
        "colab": {
          "base_uri": "https://localhost:8080/"
        },
        "id": "gKzKx-adG5Il",
        "outputId": "2c1692ca-bffe-4cbb-f7ca-555db48cd73e"
      },
      "execution_count": 23,
      "outputs": [
        {
          "output_type": "execute_result",
          "data": {
            "text/plain": [
              "(tensor(450), tensor(450))"
            ]
          },
          "metadata": {},
          "execution_count": 23
        }
      ]
    },
    {
      "cell_type": "code",
      "source": [
        "#finding position of min and max\n",
        "print(x.argmin(),x.argmax())\n",
        "x[0]\n"
      ],
      "metadata": {
        "colab": {
          "base_uri": "https://localhost:8080/"
        },
        "id": "75LbhG6eIT7n",
        "outputId": "340e3bd7-13a1-415b-a064-ccc488d2b81d"
      },
      "execution_count": 24,
      "outputs": [
        {
          "output_type": "stream",
          "name": "stdout",
          "text": [
            "tensor(0) tensor(9)\n"
          ]
        },
        {
          "output_type": "execute_result",
          "data": {
            "text/plain": [
              "tensor(0)"
            ]
          },
          "metadata": {},
          "execution_count": 24
        }
      ]
    },
    {
      "cell_type": "code",
      "source": [
        "#Reshaping , View(same memory as original tensor),Stacking(combine: .stack, .vstack,.hstack)\n",
        "#Squeeze: remove all '1' dimensions\n",
        "#Unsqueeze: add a '1' dimension\n",
        "import torch\n",
        "x = torch.arange(1.,11.)\n",
        "x, x.shape"
      ],
      "metadata": {
        "colab": {
          "base_uri": "https://localhost:8080/"
        },
        "id": "RATUnqPFQsE6",
        "outputId": "a7d84589-2bdf-4893-d0a5-92288cd398ed"
      },
      "execution_count": 25,
      "outputs": [
        {
          "output_type": "execute_result",
          "data": {
            "text/plain": [
              "(tensor([ 1.,  2.,  3.,  4.,  5.,  6.,  7.,  8.,  9., 10.]), torch.Size([10]))"
            ]
          },
          "metadata": {},
          "execution_count": 25
        }
      ]
    },
    {
      "cell_type": "code",
      "source": [
        "x_reshaped = x.reshape(1,10)\n",
        "x_reshaped, x_reshaped.shape"
      ],
      "metadata": {
        "colab": {
          "base_uri": "https://localhost:8080/"
        },
        "id": "oWSh-kZnSziz",
        "outputId": "59a87d82-57de-447b-eabd-ecac46491aba"
      },
      "execution_count": 26,
      "outputs": [
        {
          "output_type": "execute_result",
          "data": {
            "text/plain": [
              "(tensor([[ 1.,  2.,  3.,  4.,  5.,  6.,  7.,  8.,  9., 10.]]),\n",
              " torch.Size([1, 10]))"
            ]
          },
          "metadata": {},
          "execution_count": 26
        }
      ]
    },
    {
      "cell_type": "code",
      "source": [
        "x_reshaped = x.reshape(10,1)\n",
        "x_reshaped, x_reshaped.shape"
      ],
      "metadata": {
        "colab": {
          "base_uri": "https://localhost:8080/"
        },
        "id": "i-drcugqS5jG",
        "outputId": "ab3f8930-540a-4794-b594-cfe46a8e6940"
      },
      "execution_count": 27,
      "outputs": [
        {
          "output_type": "execute_result",
          "data": {
            "text/plain": [
              "(tensor([[ 1.],\n",
              "         [ 2.],\n",
              "         [ 3.],\n",
              "         [ 4.],\n",
              "         [ 5.],\n",
              "         [ 6.],\n",
              "         [ 7.],\n",
              "         [ 8.],\n",
              "         [ 9.],\n",
              "         [10.]]),\n",
              " torch.Size([10, 1]))"
            ]
          },
          "metadata": {},
          "execution_count": 27
        }
      ]
    },
    {
      "cell_type": "code",
      "source": [
        "z = x.view(2,5)\n",
        "z, z.shape"
      ],
      "metadata": {
        "colab": {
          "base_uri": "https://localhost:8080/"
        },
        "id": "0arlS9RYTLnB",
        "outputId": "5dbb3a50-8c20-4caf-b7d7-86b57f57c028"
      },
      "execution_count": 28,
      "outputs": [
        {
          "output_type": "execute_result",
          "data": {
            "text/plain": [
              "(tensor([[ 1.,  2.,  3.,  4.,  5.],\n",
              "         [ 6.,  7.,  8.,  9., 10.]]),\n",
              " torch.Size([2, 5]))"
            ]
          },
          "metadata": {},
          "execution_count": 28
        }
      ]
    },
    {
      "cell_type": "code",
      "source": [
        "z[:,0] = 5\n",
        "z\n",
        "x"
      ],
      "metadata": {
        "colab": {
          "base_uri": "https://localhost:8080/"
        },
        "id": "P3v31qqpT_5T",
        "outputId": "6f5ef8d3-7b4c-4d79-8adc-8a93321faffa"
      },
      "execution_count": 29,
      "outputs": [
        {
          "output_type": "execute_result",
          "data": {
            "text/plain": [
              "tensor([ 5.,  2.,  3.,  4.,  5.,  5.,  7.,  8.,  9., 10.])"
            ]
          },
          "metadata": {},
          "execution_count": 29
        }
      ]
    },
    {
      "cell_type": "code",
      "source": [
        "#Stacks\n",
        "x_stacked = torch.stack([z,z,z],dim=2)\n",
        "x_stacked"
      ],
      "metadata": {
        "colab": {
          "base_uri": "https://localhost:8080/"
        },
        "id": "KRQ0WIagU_69",
        "outputId": "9f7edf54-2c50-4868-fb04-2c6cf747e3cb"
      },
      "execution_count": 30,
      "outputs": [
        {
          "output_type": "execute_result",
          "data": {
            "text/plain": [
              "tensor([[[ 5.,  5.,  5.],\n",
              "         [ 2.,  2.,  2.],\n",
              "         [ 3.,  3.,  3.],\n",
              "         [ 4.,  4.,  4.],\n",
              "         [ 5.,  5.,  5.]],\n",
              "\n",
              "        [[ 5.,  5.,  5.],\n",
              "         [ 7.,  7.,  7.],\n",
              "         [ 8.,  8.,  8.],\n",
              "         [ 9.,  9.,  9.],\n",
              "         [10., 10., 10.]]])"
            ]
          },
          "metadata": {},
          "execution_count": 30
        }
      ]
    },
    {
      "cell_type": "code",
      "source": [
        "#Squeeze\n",
        "x = torch.zeros(2, 1, 2, 1, 2)\n",
        "print(f\"x size: {x.size()}\")\n",
        "y = torch.squeeze(x)\n",
        "print(y)\n",
        "print(f\"y size: {y.size()}\")\n",
        "y = torch.squeeze(x, 0)\n",
        "y.size()\n",
        "y = torch.squeeze(x, 1)\n",
        "y.size()\n",
        "y = torch.squeeze(x, (1, 2, 3))\n"
      ],
      "metadata": {
        "colab": {
          "base_uri": "https://localhost:8080/"
        },
        "id": "Wd7DKJJJeAMm",
        "outputId": "60251006-a4b1-41ba-a4f2-a8d7c99ef450"
      },
      "execution_count": 31,
      "outputs": [
        {
          "output_type": "stream",
          "name": "stdout",
          "text": [
            "x size: torch.Size([2, 1, 2, 1, 2])\n",
            "tensor([[[0., 0.],\n",
            "         [0., 0.]],\n",
            "\n",
            "        [[0., 0.],\n",
            "         [0., 0.]]])\n",
            "y size: torch.Size([2, 2, 2])\n"
          ]
        }
      ]
    },
    {
      "cell_type": "code",
      "source": [
        "print(f\"Previous tensor: {x_reshaped}\")\n",
        "print(f\"Previous shape: {x_reshaped.shape}\")\n",
        "\n",
        "x_squeezed = x_reshaped.squeeze()\n",
        "print(f\"\\nNew Tensor: {x_squeezed}\")\n",
        "print(f\"New Shape: {x_squeezed.shape}\")"
      ],
      "metadata": {
        "colab": {
          "base_uri": "https://localhost:8080/"
        },
        "id": "WQNNqtdMe3zI",
        "outputId": "6c9c3954-5400-4be3-9ebc-1284e143f581"
      },
      "execution_count": 32,
      "outputs": [
        {
          "output_type": "stream",
          "name": "stdout",
          "text": [
            "Previous tensor: tensor([[ 5.],\n",
            "        [ 2.],\n",
            "        [ 3.],\n",
            "        [ 4.],\n",
            "        [ 5.],\n",
            "        [ 5.],\n",
            "        [ 7.],\n",
            "        [ 8.],\n",
            "        [ 9.],\n",
            "        [10.]])\n",
            "Previous shape: torch.Size([10, 1])\n",
            "\n",
            "New Tensor: tensor([ 5.,  2.,  3.,  4.,  5.,  5.,  7.,  8.,  9., 10.])\n",
            "New Shape: torch.Size([10])\n"
          ]
        }
      ]
    },
    {
      "cell_type": "code",
      "source": [
        "print(f\"Previous target: {x_squeezed}\")\n",
        "print(f\"Previous shape:{x_squeezed.shape}\")\n",
        "x_unsqueezed = x_squeezed.unsqueeze(dim=1)\n",
        "print(f\"\\nNew tensor: {x_unsqueezed}\")\n",
        "print(f\"New shape: {x_unsqueezed.shape}\")\n"
      ],
      "metadata": {
        "colab": {
          "base_uri": "https://localhost:8080/"
        },
        "id": "La6uXD_gy89I",
        "outputId": "fe7ef9bc-9dd8-48ce-94e7-412294a52af3"
      },
      "execution_count": 33,
      "outputs": [
        {
          "output_type": "stream",
          "name": "stdout",
          "text": [
            "Previous target: tensor([ 5.,  2.,  3.,  4.,  5.,  5.,  7.,  8.,  9., 10.])\n",
            "Previous shape:torch.Size([10])\n",
            "\n",
            "New tensor: tensor([[ 5.],\n",
            "        [ 2.],\n",
            "        [ 3.],\n",
            "        [ 4.],\n",
            "        [ 5.],\n",
            "        [ 5.],\n",
            "        [ 7.],\n",
            "        [ 8.],\n",
            "        [ 9.],\n",
            "        [10.]])\n",
            "New shape: torch.Size([10, 1])\n"
          ]
        }
      ]
    },
    {
      "cell_type": "code",
      "source": [
        "x_original = torch.rand(size=(224,224,3))#height width colours_channels\n",
        "#permute the original to rearrange the axis\n",
        "x_permuted = x_original.permute(2,0,1)\n",
        "print(f\"Previous shape: { x_original.shape}\")\n",
        "print(f\"New shape: {x_permuted.shape}\")"
      ],
      "metadata": {
        "colab": {
          "base_uri": "https://localhost:8080/"
        },
        "id": "iRSbJ8fD14YA",
        "outputId": "4d82e09c-9682-483c-abeb-b2a6d16f104f"
      },
      "execution_count": 34,
      "outputs": [
        {
          "output_type": "stream",
          "name": "stdout",
          "text": [
            "Previous shape: torch.Size([224, 224, 3])\n",
            "New shape: torch.Size([3, 224, 224])\n"
          ]
        }
      ]
    },
    {
      "cell_type": "code",
      "source": [
        "x_original[0,0,0] =7222\n",
        "#x_permuted\n",
        "print(x_original[0,0,0] ,x_permuted[0,0,0] )"
      ],
      "metadata": {
        "colab": {
          "base_uri": "https://localhost:8080/"
        },
        "id": "Nr3Zzzmi2EU_",
        "outputId": "257aaf2a-4ce3-455a-c6cb-179b521ca4e2"
      },
      "execution_count": 35,
      "outputs": [
        {
          "output_type": "stream",
          "name": "stdout",
          "text": [
            "tensor(7222.) tensor(7222.)\n"
          ]
        }
      ]
    },
    {
      "cell_type": "code",
      "source": [
        "#Indexing with Pytorch is similar to NumPy\n",
        "import torch\n",
        "x = torch.arange(1,10).reshape(1,3,3)\n",
        "x, x.shape"
      ],
      "metadata": {
        "colab": {
          "base_uri": "https://localhost:8080/"
        },
        "id": "XhoRmI3g27ai",
        "outputId": "286e0178-d76b-4843-cb96-c5cc718e7015"
      },
      "execution_count": 36,
      "outputs": [
        {
          "output_type": "execute_result",
          "data": {
            "text/plain": [
              "(tensor([[[1, 2, 3],\n",
              "          [4, 5, 6],\n",
              "          [7, 8, 9]]]),\n",
              " torch.Size([1, 3, 3]))"
            ]
          },
          "metadata": {},
          "execution_count": 36
        }
      ]
    },
    {
      "cell_type": "code",
      "source": [
        "x[0][2]"
      ],
      "metadata": {
        "colab": {
          "base_uri": "https://localhost:8080/"
        },
        "id": "vitI12Z24PoH",
        "outputId": "3e613ae7-119d-431b-b304-fe1b365d3d9c"
      },
      "execution_count": 37,
      "outputs": [
        {
          "output_type": "execute_result",
          "data": {
            "text/plain": [
              "tensor([7, 8, 9])"
            ]
          },
          "metadata": {},
          "execution_count": 37
        }
      ]
    },
    {
      "cell_type": "code",
      "source": [
        "x[0][1][2]"
      ],
      "metadata": {
        "colab": {
          "base_uri": "https://localhost:8080/"
        },
        "id": "xYHbwBrn4Xis",
        "outputId": "d6baa119-a321-42e0-e790-1c953b0058fa"
      },
      "execution_count": 38,
      "outputs": [
        {
          "output_type": "execute_result",
          "data": {
            "text/plain": [
              "tensor(6)"
            ]
          },
          "metadata": {},
          "execution_count": 38
        }
      ]
    },
    {
      "cell_type": "code",
      "source": [
        "x[:,:,2]"
      ],
      "metadata": {
        "colab": {
          "base_uri": "https://localhost:8080/"
        },
        "id": "XkKW3CSs4vrp",
        "outputId": "ee9ec789-cd96-4de2-86fb-e714968fa956"
      },
      "execution_count": 39,
      "outputs": [
        {
          "output_type": "execute_result",
          "data": {
            "text/plain": [
              "tensor([[3, 6, 9]])"
            ]
          },
          "metadata": {},
          "execution_count": 39
        }
      ]
    },
    {
      "cell_type": "code",
      "source": [
        "#Pytorch tensors & NumPy\n",
        "#torch.from_numpy(ndarray)\n",
        "#torch.Tensor.numpy()\n",
        "import torch\n",
        "import numpy as np\n",
        "array = np.arange(1.0,8.0)\n",
        "tensor = torch.from_numpy(array)\n",
        "array, tensor, tensor.dtype"
      ],
      "metadata": {
        "colab": {
          "base_uri": "https://localhost:8080/"
        },
        "id": "AtcLkw645OVo",
        "outputId": "1c39a002-55ce-4f6b-9564-fac9c21a364c"
      },
      "execution_count": 40,
      "outputs": [
        {
          "output_type": "execute_result",
          "data": {
            "text/plain": [
              "(array([1., 2., 3., 4., 5., 6., 7.]),\n",
              " tensor([1., 2., 3., 4., 5., 6., 7.], dtype=torch.float64),\n",
              " torch.float64)"
            ]
          },
          "metadata": {},
          "execution_count": 40
        }
      ]
    },
    {
      "cell_type": "code",
      "source": [
        "tensor.dtype"
      ],
      "metadata": {
        "colab": {
          "base_uri": "https://localhost:8080/"
        },
        "id": "jrQ1hRh37Q4e",
        "outputId": "d1ab6e80-4131-4dac-fbc6-58e09eba2e3c"
      },
      "execution_count": 41,
      "outputs": [
        {
          "output_type": "execute_result",
          "data": {
            "text/plain": [
              "torch.float64"
            ]
          },
          "metadata": {},
          "execution_count": 41
        }
      ]
    },
    {
      "cell_type": "code",
      "source": [
        "array = array+1\n",
        "array, tensor"
      ],
      "metadata": {
        "colab": {
          "base_uri": "https://localhost:8080/"
        },
        "id": "KyQauqHkPbqm",
        "outputId": "0b3f1435-c857-4db6-80df-c0e3a64a162a"
      },
      "execution_count": 42,
      "outputs": [
        {
          "output_type": "execute_result",
          "data": {
            "text/plain": [
              "(array([2., 3., 4., 5., 6., 7., 8.]),\n",
              " tensor([1., 2., 3., 4., 5., 6., 7.], dtype=torch.float64))"
            ]
          },
          "metadata": {},
          "execution_count": 42
        }
      ]
    },
    {
      "cell_type": "code",
      "source": [
        "#Tensor to NumPy\n",
        "tensor = torch.ones(7)\n",
        "numpy_tensor = tensor.numpy()\n",
        "tensor, numpy_tensor"
      ],
      "metadata": {
        "colab": {
          "base_uri": "https://localhost:8080/"
        },
        "id": "472I_QobPiJr",
        "outputId": "629b5df5-6472-44bc-bfe3-3d385f41ea2d"
      },
      "execution_count": 43,
      "outputs": [
        {
          "output_type": "execute_result",
          "data": {
            "text/plain": [
              "(tensor([1., 1., 1., 1., 1., 1., 1.]),\n",
              " array([1., 1., 1., 1., 1., 1., 1.], dtype=float32))"
            ]
          },
          "metadata": {},
          "execution_count": 43
        }
      ]
    },
    {
      "cell_type": "code",
      "source": [
        "tensor = tensor + 1\n",
        "tensor, numpy_tensor"
      ],
      "metadata": {
        "id": "SLHcmv_6P-Kv",
        "colab": {
          "base_uri": "https://localhost:8080/"
        },
        "outputId": "ecbc52e3-9357-4cd1-a48a-d4529ceca903"
      },
      "execution_count": 44,
      "outputs": [
        {
          "output_type": "execute_result",
          "data": {
            "text/plain": [
              "(tensor([2., 2., 2., 2., 2., 2., 2.]),\n",
              " array([1., 1., 1., 1., 1., 1., 1.], dtype=float32))"
            ]
          },
          "metadata": {},
          "execution_count": 44
        }
      ]
    },
    {
      "cell_type": "code",
      "source": [
        "#Reproducibility (take random out of random)\n",
        "#random nb -> tensor operations -> update random nb -> again -> again\n",
        "torch.rand(3,3)\n",
        "# to reduce randomness use random seed: it is flavour the randomness"
      ],
      "metadata": {
        "colab": {
          "base_uri": "https://localhost:8080/"
        },
        "id": "LGR5ofuuQj9g",
        "outputId": "19ca02bf-47f5-476c-c05a-924cf035577d"
      },
      "execution_count": 45,
      "outputs": [
        {
          "output_type": "execute_result",
          "data": {
            "text/plain": [
              "tensor([[0.0956, 0.8805, 0.6586],\n",
              "        [0.3981, 0.6300, 0.1375],\n",
              "        [0.5684, 0.9808, 0.1243]])"
            ]
          },
          "metadata": {},
          "execution_count": 45
        }
      ]
    },
    {
      "cell_type": "code",
      "source": [
        "import torch\n",
        "random_tensor_A = torch.rand(3,4)\n",
        "random_tensor_B = torch.rand(3,4)\n",
        "print(random_tensor_A)\n",
        "print(random_tensor_B)\n",
        "print(random_tensor_A == random_tensor_B)"
      ],
      "metadata": {
        "colab": {
          "base_uri": "https://localhost:8080/"
        },
        "id": "nN3GByTMTz4c",
        "outputId": "bdb474c0-dab8-4acc-ba6f-59b420eb1a3a"
      },
      "execution_count": 46,
      "outputs": [
        {
          "output_type": "stream",
          "name": "stdout",
          "text": [
            "tensor([[0.2575, 0.8281, 0.8956, 0.9193],\n",
            "        [0.8933, 0.9093, 0.2534, 0.3815],\n",
            "        [0.5271, 0.8657, 0.9182, 0.7213]])\n",
            "tensor([[0.2020, 0.9582, 0.5889, 0.8137],\n",
            "        [0.5603, 0.4999, 0.6414, 0.9831],\n",
            "        [0.0368, 0.6878, 0.6217, 0.4130]])\n",
            "tensor([[False, False, False, False],\n",
            "        [False, False, False, False],\n",
            "        [False, False, False, False]])\n"
          ]
        }
      ]
    },
    {
      "cell_type": "code",
      "source": [
        "#random but reproducible\n",
        "import torch\n",
        "RANDOM_SEED = 42\n",
        "torch.manual_seed(RANDOM_SEED)\n",
        "random_tensor_C = torch.rand(3,4)\n",
        "torch.manual_seed(RANDOM_SEED)\n",
        "random_tensor_D = torch.rand(3,4)\n",
        "print(random_tensor_C)\n",
        "print(random_tensor_D)\n",
        "print(random_tensor_C == random_tensor_D)"
      ],
      "metadata": {
        "colab": {
          "base_uri": "https://localhost:8080/"
        },
        "id": "ta3PXlcNUvFn",
        "outputId": "d16c2fd7-9a86-4621-d1e6-6361c1441f0a"
      },
      "execution_count": 47,
      "outputs": [
        {
          "output_type": "stream",
          "name": "stdout",
          "text": [
            "tensor([[0.8823, 0.9150, 0.3829, 0.9593],\n",
            "        [0.3904, 0.6009, 0.2566, 0.7936],\n",
            "        [0.9408, 0.1332, 0.9346, 0.5936]])\n",
            "tensor([[0.8823, 0.9150, 0.3829, 0.9593],\n",
            "        [0.3904, 0.6009, 0.2566, 0.7936],\n",
            "        [0.9408, 0.1332, 0.9346, 0.5936]])\n",
            "tensor([[True, True, True, True],\n",
            "        [True, True, True, True],\n",
            "        [True, True, True, True]])\n"
          ]
        }
      ]
    },
    {
      "cell_type": "markdown",
      "source": [
        "extra resources:\n",
        "https://pytorch.org/docs/stable/notes/randomness.html"
      ],
      "metadata": {
        "id": "BwL1hRTWVi7C"
      }
    },
    {
      "cell_type": "code",
      "source": [
        "# Running tensors and Pytorch objects on the GPUs(faster computation thanks to CUDA +NVIDIA hardware)\n",
        "!nvidia-smi"
      ],
      "metadata": {
        "colab": {
          "base_uri": "https://localhost:8080/"
        },
        "id": "eP8TpY4pWpXP",
        "outputId": "4f729082-b4e5-4c36-f084-bef7089e0b37"
      },
      "execution_count": 48,
      "outputs": [
        {
          "output_type": "stream",
          "name": "stdout",
          "text": [
            "Sun Jan 26 07:00:35 2025       \n",
            "+---------------------------------------------------------------------------------------+\n",
            "| NVIDIA-SMI 535.104.05             Driver Version: 535.104.05   CUDA Version: 12.2     |\n",
            "|-----------------------------------------+----------------------+----------------------+\n",
            "| GPU  Name                 Persistence-M | Bus-Id        Disp.A | Volatile Uncorr. ECC |\n",
            "| Fan  Temp   Perf          Pwr:Usage/Cap |         Memory-Usage | GPU-Util  Compute M. |\n",
            "|                                         |                      |               MIG M. |\n",
            "|=========================================+======================+======================|\n",
            "|   0  Tesla T4                       Off | 00000000:00:04.0 Off |                    0 |\n",
            "| N/A   43C    P8               9W /  70W |      0MiB / 15360MiB |      0%      Default |\n",
            "|                                         |                      |                  N/A |\n",
            "+-----------------------------------------+----------------------+----------------------+\n",
            "                                                                                         \n",
            "+---------------------------------------------------------------------------------------+\n",
            "| Processes:                                                                            |\n",
            "|  GPU   GI   CI        PID   Type   Process name                            GPU Memory |\n",
            "|        ID   ID                                                             Usage      |\n",
            "|=======================================================================================|\n",
            "|  No running processes found                                                           |\n",
            "+---------------------------------------------------------------------------------------+\n"
          ]
        }
      ]
    },
    {
      "cell_type": "code",
      "source": [
        "torch.cuda.is_available()"
      ],
      "metadata": {
        "colab": {
          "base_uri": "https://localhost:8080/"
        },
        "id": "VpeMQmopYYgx",
        "outputId": "36a87c65-4210-4f96-dd9d-08e351cc4d99"
      },
      "execution_count": 49,
      "outputs": [
        {
          "output_type": "execute_result",
          "data": {
            "text/plain": [
              "True"
            ]
          },
          "metadata": {},
          "execution_count": 49
        }
      ]
    },
    {
      "cell_type": "code",
      "source": [
        "device = \"cuda\" if torch.cuda.is_available() else \"cpu\"\n",
        "device"
      ],
      "metadata": {
        "colab": {
          "base_uri": "https://localhost:8080/",
          "height": 35
        },
        "id": "iJemEPOLY43L",
        "outputId": "af88aa55-9982-47d2-dca2-d1b19cdbc376"
      },
      "execution_count": 55,
      "outputs": [
        {
          "output_type": "execute_result",
          "data": {
            "text/plain": [
              "'cuda'"
            ],
            "application/vnd.google.colaboratory.intrinsic+json": {
              "type": "string"
            }
          },
          "metadata": {},
          "execution_count": 55
        }
      ]
    },
    {
      "cell_type": "code",
      "source": [
        "torch.cuda.device_count()"
      ],
      "metadata": {
        "colab": {
          "base_uri": "https://localhost:8080/"
        },
        "id": "1AyJHM2GZBv6",
        "outputId": "33606424-4e2e-429b-c8cd-514510b201b4"
      },
      "execution_count": 51,
      "outputs": [
        {
          "output_type": "execute_result",
          "data": {
            "text/plain": [
              "1"
            ]
          },
          "metadata": {},
          "execution_count": 51
        }
      ]
    },
    {
      "cell_type": "code",
      "source": [
        "tensor = torch.tensor([1,2,3])\n",
        "print(tensor, tensor.device)"
      ],
      "metadata": {
        "colab": {
          "base_uri": "https://localhost:8080/"
        },
        "id": "0NoZzJMkZHvc",
        "outputId": "3c0e5922-ff12-4046-bc76-57fd07d2c490"
      },
      "execution_count": 52,
      "outputs": [
        {
          "output_type": "stream",
          "name": "stdout",
          "text": [
            "tensor([1, 2, 3]) cpu\n"
          ]
        }
      ]
    },
    {
      "cell_type": "code",
      "source": [
        "tensor_on_gpu = tensor.to(device)\n",
        "tensor_on_gpu"
      ],
      "metadata": {
        "colab": {
          "base_uri": "https://localhost:8080/"
        },
        "id": "7Q_IqbiSZ6Vu",
        "outputId": "05d9c83d-be1e-490d-b3a9-24e1ea6b80b3"
      },
      "execution_count": 56,
      "outputs": [
        {
          "output_type": "execute_result",
          "data": {
            "text/plain": [
              "tensor([1, 2, 3], device='cuda:0')"
            ]
          },
          "metadata": {},
          "execution_count": 56
        }
      ]
    },
    {
      "cell_type": "code",
      "source": [
        "tensor_on_gpu.numpy()"
      ],
      "metadata": {
        "colab": {
          "base_uri": "https://localhost:8080/",
          "height": 161
        },
        "id": "7yigaIAyaOcz",
        "outputId": "9982192f-b2bb-4aba-953e-ac257b4c03b5"
      },
      "execution_count": 60,
      "outputs": [
        {
          "output_type": "error",
          "ename": "TypeError",
          "evalue": "can't convert cuda:0 device type tensor to numpy. Use Tensor.cpu() to copy the tensor to host memory first.",
          "traceback": [
            "\u001b[0;31m---------------------------------------------------------------------------\u001b[0m",
            "\u001b[0;31mTypeError\u001b[0m                                 Traceback (most recent call last)",
            "\u001b[0;32m<ipython-input-60-e0c96c7436fd>\u001b[0m in \u001b[0;36m<cell line: 0>\u001b[0;34m()\u001b[0m\n\u001b[0;32m----> 1\u001b[0;31m \u001b[0mtensor_on_gpu\u001b[0m\u001b[0;34m.\u001b[0m\u001b[0mnumpy\u001b[0m\u001b[0;34m(\u001b[0m\u001b[0;34m)\u001b[0m\u001b[0;34m\u001b[0m\u001b[0;34m\u001b[0m\u001b[0m\n\u001b[0m",
            "\u001b[0;31mTypeError\u001b[0m: can't convert cuda:0 device type tensor to numpy. Use Tensor.cpu() to copy the tensor to host memory first."
          ]
        }
      ]
    },
    {
      "cell_type": "code",
      "source": [
        "tensor_back_on_cpu = tensor_on_gpu.cpu().numpy\n",
        "tensor_back_on_cpu()"
      ],
      "metadata": {
        "colab": {
          "base_uri": "https://localhost:8080/"
        },
        "id": "1F7bi9lAaxb-",
        "outputId": "2da0291c-2681-45c9-eacf-97099f868038"
      },
      "execution_count": 61,
      "outputs": [
        {
          "output_type": "execute_result",
          "data": {
            "text/plain": [
              "array([1, 2, 3])"
            ]
          },
          "metadata": {},
          "execution_count": 61
        }
      ]
    },
    {
      "cell_type": "code",
      "source": [],
      "metadata": {
        "id": "oBDobq_qa_gR"
      },
      "execution_count": null,
      "outputs": []
    }
  ],
  "metadata": {
    "colab": {
      "provenance": [],
      "gpuType": "T4",
      "authorship_tag": "ABX9TyPtKtctaEqOh2aP+/RkYUW3",
      "include_colab_link": true
    },
    "kernelspec": {
      "display_name": "Python 3",
      "name": "python3"
    },
    "language_info": {
      "name": "python"
    },
    "accelerator": "GPU"
  },
  "nbformat": 4,
  "nbformat_minor": 0
}