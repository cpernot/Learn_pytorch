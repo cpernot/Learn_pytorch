{
  "cells": [
    {
      "cell_type": "markdown",
      "metadata": {
        "id": "view-in-github",
        "colab_type": "text"
      },
      "source": [
        "<a href=\"https://colab.research.google.com/github/cpernot/Learn_pytorch/blob/main/00_pytorch_1.ipynb\" target=\"_parent\"><img src=\"https://colab.research.google.com/assets/colab-badge.svg\" alt=\"Open In Colab\"/></a>"
      ]
    },
    {
      "cell_type": "code",
      "execution_count": 151,
      "metadata": {
        "colab": {
          "base_uri": "https://localhost:8080/"
        },
        "id": "wRKRyRBcWzIj",
        "outputId": "e805f1d7-ec19-4f85-9ee4-443e7df251cd"
      },
      "outputs": [
        {
          "output_type": "stream",
          "name": "stdout",
          "text": [
            "hello\n"
          ]
        }
      ],
      "source": [
        "print (\"hello\")\n"
      ]
    },
    {
      "cell_type": "code",
      "execution_count": 152,
      "metadata": {
        "id": "4Gwp8lB9W9V9",
        "colab": {
          "base_uri": "https://localhost:8080/"
        },
        "outputId": "421c1f82-f9d9-44c1-ae86-1d3dd9aaf060"
      },
      "outputs": [
        {
          "output_type": "stream",
          "name": "stdout",
          "text": [
            "/bin/bash: line 1: nvidia-smi: command not found\n"
          ]
        }
      ],
      "source": [
        "!nvidia-smi"
      ]
    },
    {
      "cell_type": "code",
      "source": [
        "import torch\n",
        "print(torch.__version__)\n",
        "import pandas as pd\n",
        "import numpy as np\n",
        "import matplotlib.pyplot as plt"
      ],
      "metadata": {
        "colab": {
          "base_uri": "https://localhost:8080/"
        },
        "id": "lASbLdOxYWmv",
        "outputId": "3b61d45b-1482-4049-e590-b25cef45b1e2"
      },
      "execution_count": 153,
      "outputs": [
        {
          "output_type": "stream",
          "name": "stdout",
          "text": [
            "2.5.1+cu121\n"
          ]
        }
      ]
    },
    {
      "cell_type": "code",
      "source": [],
      "metadata": {
        "id": "hEb51oYlYw3C"
      },
      "execution_count": 153,
      "outputs": []
    },
    {
      "cell_type": "code",
      "source": [
        "## Introduction to Tensors"
      ],
      "metadata": {
        "id": "tU89kFRVxmYr"
      },
      "execution_count": 154,
      "outputs": []
    },
    {
      "cell_type": "code",
      "source": [
        "scalar = torch.tensor(7)\n",
        "scalar"
      ],
      "metadata": {
        "colab": {
          "base_uri": "https://localhost:8080/"
        },
        "id": "aLvPOz_Fx7E8",
        "outputId": "8b08d3d0-dbb4-4c66-d6f5-9922978c99c5"
      },
      "execution_count": 155,
      "outputs": [
        {
          "output_type": "execute_result",
          "data": {
            "text/plain": [
              "tensor(7)"
            ]
          },
          "metadata": {},
          "execution_count": 155
        }
      ]
    },
    {
      "cell_type": "code",
      "source": [
        "scalar.ndim"
      ],
      "metadata": {
        "colab": {
          "base_uri": "https://localhost:8080/"
        },
        "id": "D2G6zftGyCUD",
        "outputId": "f3fd7d5d-0fa8-4276-c174-0ad47d98c1b6"
      },
      "execution_count": 156,
      "outputs": [
        {
          "output_type": "execute_result",
          "data": {
            "text/plain": [
              "0"
            ]
          },
          "metadata": {},
          "execution_count": 156
        }
      ]
    },
    {
      "cell_type": "code",
      "source": [
        "scalar.item()"
      ],
      "metadata": {
        "colab": {
          "base_uri": "https://localhost:8080/"
        },
        "id": "lmKygJd3yGFH",
        "outputId": "f9a7828a-240d-4eb4-c083-a5059034083a"
      },
      "execution_count": 157,
      "outputs": [
        {
          "output_type": "execute_result",
          "data": {
            "text/plain": [
              "7"
            ]
          },
          "metadata": {},
          "execution_count": 157
        }
      ]
    },
    {
      "cell_type": "code",
      "source": [
        "MATRIX = torch.tensor([[1,1],[2,2]])\n",
        "print(MATRIX.ndim)\n",
        "print(MATRIX.shape)\n",
        "TENSOR =torch.tensor([[[1,2,3,4],[2,2,2,2],[3,3,3,3]],\n",
        "                      [[1,2,3,4],[2,2,2,2],[3,3,3,3]]])\n",
        "print(TENSOR.ndim)\n",
        "print(TENSOR.shape)"
      ],
      "metadata": {
        "colab": {
          "base_uri": "https://localhost:8080/"
        },
        "id": "36aPHMDdyb6T",
        "outputId": "4b765838-b7e0-4deb-cc46-9634e2f30059"
      },
      "execution_count": 158,
      "outputs": [
        {
          "output_type": "stream",
          "name": "stdout",
          "text": [
            "2\n",
            "torch.Size([2, 2])\n",
            "3\n",
            "torch.Size([2, 3, 4])\n"
          ]
        }
      ]
    },
    {
      "cell_type": "markdown",
      "source": [
        "###Random Tensors"
      ],
      "metadata": {
        "id": "W-I2X4-2CODq"
      }
    },
    {
      "cell_type": "markdown",
      "source": [
        "## #Create a random tensor of size (3,4)"
      ],
      "metadata": {
        "id": "CGCYmNpwFUQ7"
      }
    },
    {
      "cell_type": "code",
      "source": [
        "random_tensor = torch.rand(2,4,3)\n",
        "random_tensor\n",
        "print(random_tensor.ndim)\n",
        "print(random_tensor.shape)"
      ],
      "metadata": {
        "colab": {
          "base_uri": "https://localhost:8080/"
        },
        "id": "IdvZXKTzFtri",
        "outputId": "357450fe-a706-4116-e904-f98d6c61471c"
      },
      "execution_count": 159,
      "outputs": [
        {
          "output_type": "stream",
          "name": "stdout",
          "text": [
            "3\n",
            "torch.Size([2, 4, 3])\n"
          ]
        }
      ]
    },
    {
      "cell_type": "code",
      "source": [
        "mytensor = torch.rand(size=(1,2))\n",
        "print(mytensor)"
      ],
      "metadata": {
        "colab": {
          "base_uri": "https://localhost:8080/"
        },
        "id": "w867kVkrF7kr",
        "outputId": "41150adc-26fb-4a9b-a33f-c8612813c345"
      },
      "execution_count": 160,
      "outputs": [
        {
          "output_type": "stream",
          "name": "stdout",
          "text": [
            "tensor([[0.8978, 0.7661]])\n"
          ]
        }
      ]
    },
    {
      "cell_type": "code",
      "source": [
        "zeros = torch.zeros(3,3,3)\n",
        "zeros.dtype\n",
        "ones = torch.ones(2,2,1)\n",
        "ones"
      ],
      "metadata": {
        "colab": {
          "base_uri": "https://localhost:8080/"
        },
        "id": "7ZeSFh2UGL3M",
        "outputId": "0f8e527f-10d6-4fc5-8408-f2dcd8a679d7"
      },
      "execution_count": 161,
      "outputs": [
        {
          "output_type": "execute_result",
          "data": {
            "text/plain": [
              "tensor([[[1.],\n",
              "         [1.]],\n",
              "\n",
              "        [[1.],\n",
              "         [1.]]])"
            ]
          },
          "metadata": {},
          "execution_count": 161
        }
      ]
    },
    {
      "cell_type": "code",
      "source": [
        "#creating a range of Tensor\n",
        "torch.arange(1,11)\n",
        "onetoten = torch.arange(start = 0, end = 10, step = 2)\n",
        "onetoten"
      ],
      "metadata": {
        "colab": {
          "base_uri": "https://localhost:8080/"
        },
        "id": "BQGYwlCSHo_X",
        "outputId": "49316070-6a29-477c-d719-175be7aed7b1"
      },
      "execution_count": 162,
      "outputs": [
        {
          "output_type": "execute_result",
          "data": {
            "text/plain": [
              "tensor([0, 2, 4, 6, 8])"
            ]
          },
          "metadata": {},
          "execution_count": 162
        }
      ]
    },
    {
      "cell_type": "code",
      "source": [
        "#creating tensors like\n",
        "ten_zeros = torch.zeros_like(input =onetoten)\n",
        "ten_zeros"
      ],
      "metadata": {
        "colab": {
          "base_uri": "https://localhost:8080/"
        },
        "id": "8IvaqF5WIGub",
        "outputId": "5ff8bcff-2cf2-4efe-da7c-0bcb04ecf96c"
      },
      "execution_count": 163,
      "outputs": [
        {
          "output_type": "execute_result",
          "data": {
            "text/plain": [
              "tensor([0, 0, 0, 0, 0])"
            ]
          },
          "metadata": {},
          "execution_count": 163
        }
      ]
    },
    {
      "cell_type": "markdown",
      "source": [
        "#Tensor Datatype\n",
        "***Note::: Tensor datatypes is one of the 3 big errors in Pytorch\n",
        "(the other two are: device, shape)"
      ],
      "metadata": {
        "id": "L7fihjWoI2nk"
      }
    },
    {
      "cell_type": "code",
      "source": [
        "float_32_tensor = torch.tensor([3.0001,6,9],\n",
        "                               dtype = None,\n",
        "                               device=None,\n",
        "                               requires_grad = False)\n",
        "float_16_tensor = float_32_tensor.type(torch.float16)\n",
        "float_16_tensor.dtype"
      ],
      "metadata": {
        "colab": {
          "base_uri": "https://localhost:8080/"
        },
        "id": "8almwS3DJQG-",
        "outputId": "39a87744-9101-4929-a682-88c986e059ee"
      },
      "execution_count": 164,
      "outputs": [
        {
          "output_type": "execute_result",
          "data": {
            "text/plain": [
              "torch.float16"
            ]
          },
          "metadata": {},
          "execution_count": 164
        }
      ]
    },
    {
      "cell_type": "code",
      "source": [
        "float_32_tensor * float_16_tensor"
      ],
      "metadata": {
        "colab": {
          "base_uri": "https://localhost:8080/"
        },
        "id": "K5vltX85JdCu",
        "outputId": "20776100-c0db-4afb-b2d8-15c15f5adafe"
      },
      "execution_count": 165,
      "outputs": [
        {
          "output_type": "execute_result",
          "data": {
            "text/plain": [
              "tensor([ 9.0003, 36.0000, 81.0000])"
            ]
          },
          "metadata": {},
          "execution_count": 165
        }
      ]
    },
    {
      "cell_type": "code",
      "source": [
        "int_32_tensor = torch.tensor([3.0031,6,9], dtype = torch.int32)\n",
        "int_32_tensor"
      ],
      "metadata": {
        "colab": {
          "base_uri": "https://localhost:8080/"
        },
        "id": "72ScbA9TMCec",
        "outputId": "d0e5d8e0-bb03-46ee-fce5-3dd0148864e1"
      },
      "execution_count": 166,
      "outputs": [
        {
          "output_type": "execute_result",
          "data": {
            "text/plain": [
              "tensor([3, 6, 9], dtype=torch.int32)"
            ]
          },
          "metadata": {},
          "execution_count": 166
        }
      ]
    },
    {
      "cell_type": "code",
      "source": [
        "some_tensor = torch.rand(3,4)\n",
        "some_tensor"
      ],
      "metadata": {
        "colab": {
          "base_uri": "https://localhost:8080/"
        },
        "id": "2i32eikClAny",
        "outputId": "7000adad-711f-4728-d5a1-a70f599f227a"
      },
      "execution_count": 167,
      "outputs": [
        {
          "output_type": "execute_result",
          "data": {
            "text/plain": [
              "tensor([[0.8741, 0.8486, 0.1388, 0.9359],\n",
              "        [0.0206, 0.7414, 0.9362, 0.3516],\n",
              "        [0.7082, 0.5352, 0.2582, 0.1564]])"
            ]
          },
          "metadata": {},
          "execution_count": 167
        }
      ]
    },
    {
      "cell_type": "code",
      "source": [
        "print(some_tensor)\n",
        "print(f'Data type of tensor: {some_tensor.dtype}')\n",
        "print(f\"Size of tensor: {some_tensor.size}\")\n",
        "print(f\"Shape of tensor: {some_tensor.shape}\")\n",
        "print(f\"Device of tensor: {some_tensor.device}\")"
      ],
      "metadata": {
        "colab": {
          "base_uri": "https://localhost:8080/"
        },
        "id": "FEVq_AJhlbDc",
        "outputId": "396a6d9a-fa75-4c57-c808-972575c0ace6"
      },
      "execution_count": 168,
      "outputs": [
        {
          "output_type": "stream",
          "name": "stdout",
          "text": [
            "tensor([[0.8741, 0.8486, 0.1388, 0.9359],\n",
            "        [0.0206, 0.7414, 0.9362, 0.3516],\n",
            "        [0.7082, 0.5352, 0.2582, 0.1564]])\n",
            "Data type of tensor: torch.float32\n",
            "Size of tensor: <built-in method size of Tensor object at 0x7a3ced5b67b0>\n",
            "Shape of tensor: torch.Size([3, 4])\n",
            "Device of tensor: cpu\n"
          ]
        }
      ]
    },
    {
      "cell_type": "code",
      "source": [
        "#Tensor operations\n",
        "#include addition, substraction, multiplication(element-wise), division, Matrix multiplication\n",
        "tensor = torch.tensor([1,2,3])\n",
        "print(tensor + 10)\n",
        "print(tensor * 2)\n",
        "print(tensor -10)\n",
        "print(torch.mul(tensor,10))\n",
        "#Check Math is Fun and check Matrix multiplication(dot product)\n",
        "print(torch.dot(tensor,tensor))\n",
        "print(torch.matmul(tensor,tensor))\n",
        "print(tensor @ tensor)\n",
        "tensor * tensor\n",
        "# %%time\n",
        "value = 0\n",
        "for i in range(len(tensor)):\n",
        "  value += tensor[i]*tensor[i]\n",
        "print(value)\n",
        "\n"
      ],
      "metadata": {
        "colab": {
          "base_uri": "https://localhost:8080/"
        },
        "id": "0iGK9GQPlx1r",
        "outputId": "042ee2e8-5b80-4174-94a6-9f3e9859f285"
      },
      "execution_count": 169,
      "outputs": [
        {
          "output_type": "stream",
          "name": "stdout",
          "text": [
            "tensor([11, 12, 13])\n",
            "tensor([2, 4, 6])\n",
            "tensor([-9, -8, -7])\n",
            "tensor([10, 20, 30])\n",
            "tensor(14)\n",
            "tensor(14)\n",
            "tensor(14)\n",
            "tensor(14)\n"
          ]
        }
      ]
    },
    {
      "cell_type": "code",
      "source": [
        "#Common error is shape error\n",
        "#Two rules for matrix multiplication\n",
        "#inner dimensions must match\n",
        "#result matrix has shape of outer dimensions\n",
        "print(torch.rand(3,2))\n",
        "print(torch.rand(2,3))\n",
        "print(torch.matmul(torch.rand(1,2),torch.rand(2,1)))"
      ],
      "metadata": {
        "colab": {
          "base_uri": "https://localhost:8080/"
        },
        "id": "4IVhM1EonHp-",
        "outputId": "4e95133b-3e3f-4068-f412-908d9da739dd"
      },
      "execution_count": 170,
      "outputs": [
        {
          "output_type": "stream",
          "name": "stdout",
          "text": [
            "tensor([[0.3906, 0.2521],\n",
            "        [0.4354, 0.5442],\n",
            "        [0.1535, 0.8005]])\n",
            "tensor([[0.2493, 0.9917, 0.7343],\n",
            "        [0.8307, 0.7060, 0.1514]])\n",
            "tensor([[0.3431]])\n"
          ]
        }
      ]
    },
    {
      "cell_type": "code",
      "source": [
        "tensor_A = torch.tensor([[1,2],\n",
        "                        [3,4],\n",
        "                        [5,6]])\n",
        "tensor_B = torch.tensor([[7,10],\n",
        "                        [8,11],\n",
        "                        [9,12]])\n",
        "# transpose to switch axes or dimension of tensor\n",
        "tensor_B.T, tensor_B.T.shape\n",
        "torch.mm(tensor_A, tensor_B.T) # same as .matmul\n",
        "print(f\"Original Shapes: Tensor_A = {tensor_A.shape}, tensor_B = { tensor_B.shape}\")\n",
        "print(f\"New Shapes: Tensor_A = {tensor_A.shape}, tensor_B = { tensor_B.T.shape}\")\n",
        "print(\"Output:\")\n",
        "print(torch.mm(tensor_A,tensor_B.T))\n"
      ],
      "metadata": {
        "colab": {
          "base_uri": "https://localhost:8080/"
        },
        "id": "EWyXet4YrHMb",
        "outputId": "7c10571e-6c2d-4e25-acc4-262e7b8e037a"
      },
      "execution_count": 171,
      "outputs": [
        {
          "output_type": "stream",
          "name": "stdout",
          "text": [
            "Original Shapes: Tensor_A = torch.Size([3, 2]), tensor_B = torch.Size([3, 2])\n",
            "New Shapes: Tensor_A = torch.Size([3, 2]), tensor_B = torch.Size([2, 3])\n",
            "Output:\n",
            "tensor([[ 27,  30,  33],\n",
            "        [ 61,  68,  75],\n",
            "        [ 95, 106, 117]])\n"
          ]
        }
      ]
    },
    {
      "cell_type": "code",
      "source": [
        "#finding min, max, mean, sum, etc (tensor aggregation)\n",
        "x = torch.arange(0,100,10)\n",
        "print(x.dtype)\n",
        "torch.max(x),x.min()\n",
        "torch.mean(x.type(torch.float32)),x.type(torch.float32).mean()"
      ],
      "metadata": {
        "colab": {
          "base_uri": "https://localhost:8080/"
        },
        "id": "l3eKGv9fGxjR",
        "outputId": "cb56db10-9926-473c-ac2a-565ae301c19a"
      },
      "execution_count": 172,
      "outputs": [
        {
          "output_type": "stream",
          "name": "stdout",
          "text": [
            "torch.int64\n"
          ]
        },
        {
          "output_type": "execute_result",
          "data": {
            "text/plain": [
              "(tensor(45.), tensor(45.))"
            ]
          },
          "metadata": {},
          "execution_count": 172
        }
      ]
    },
    {
      "cell_type": "code",
      "source": [
        "torch.sum(x), x.sum()"
      ],
      "metadata": {
        "colab": {
          "base_uri": "https://localhost:8080/"
        },
        "id": "gKzKx-adG5Il",
        "outputId": "c5a8daa1-bbb1-40a5-ecd4-d61a8709464c"
      },
      "execution_count": 173,
      "outputs": [
        {
          "output_type": "execute_result",
          "data": {
            "text/plain": [
              "(tensor(450), tensor(450))"
            ]
          },
          "metadata": {},
          "execution_count": 173
        }
      ]
    },
    {
      "cell_type": "code",
      "source": [
        "#finding position of min and max\n",
        "print(x.argmin(),x.argmax())\n",
        "x[0]\n"
      ],
      "metadata": {
        "colab": {
          "base_uri": "https://localhost:8080/"
        },
        "id": "75LbhG6eIT7n",
        "outputId": "6fe9d667-c05f-4321-da6b-b85cd1193bc6"
      },
      "execution_count": 174,
      "outputs": [
        {
          "output_type": "stream",
          "name": "stdout",
          "text": [
            "tensor(0) tensor(9)\n"
          ]
        },
        {
          "output_type": "execute_result",
          "data": {
            "text/plain": [
              "tensor(0)"
            ]
          },
          "metadata": {},
          "execution_count": 174
        }
      ]
    },
    {
      "cell_type": "code",
      "source": [
        "#Reshaping , View(same memory as original tensor),Stacking(combine: .stack, .vstack,.hstack)\n",
        "#Squeeze: remove all '1' dimensions\n",
        "#Unsqueeze: add a '1' dimension\n",
        "import torch\n",
        "x = torch.arange(1.,11.)\n",
        "x, x.shape"
      ],
      "metadata": {
        "colab": {
          "base_uri": "https://localhost:8080/"
        },
        "id": "RATUnqPFQsE6",
        "outputId": "474271d2-99da-4925-aeb9-1d742ed25791"
      },
      "execution_count": 175,
      "outputs": [
        {
          "output_type": "execute_result",
          "data": {
            "text/plain": [
              "(tensor([ 1.,  2.,  3.,  4.,  5.,  6.,  7.,  8.,  9., 10.]), torch.Size([10]))"
            ]
          },
          "metadata": {},
          "execution_count": 175
        }
      ]
    },
    {
      "cell_type": "code",
      "source": [
        "x_reshaped = x.reshape(1,10)\n",
        "x_reshaped, x_reshaped.shape"
      ],
      "metadata": {
        "colab": {
          "base_uri": "https://localhost:8080/"
        },
        "id": "oWSh-kZnSziz",
        "outputId": "28f737db-048e-4632-ed33-8a1eb5aaa5a3"
      },
      "execution_count": 176,
      "outputs": [
        {
          "output_type": "execute_result",
          "data": {
            "text/plain": [
              "(tensor([[ 1.,  2.,  3.,  4.,  5.,  6.,  7.,  8.,  9., 10.]]),\n",
              " torch.Size([1, 10]))"
            ]
          },
          "metadata": {},
          "execution_count": 176
        }
      ]
    },
    {
      "cell_type": "code",
      "source": [
        "x_reshaped = x.reshape(10,1)\n",
        "x_reshaped, x_reshaped.shape"
      ],
      "metadata": {
        "colab": {
          "base_uri": "https://localhost:8080/"
        },
        "id": "i-drcugqS5jG",
        "outputId": "03f3b720-76d9-4067-a35d-e4735ed79aa2"
      },
      "execution_count": 177,
      "outputs": [
        {
          "output_type": "execute_result",
          "data": {
            "text/plain": [
              "(tensor([[ 1.],\n",
              "         [ 2.],\n",
              "         [ 3.],\n",
              "         [ 4.],\n",
              "         [ 5.],\n",
              "         [ 6.],\n",
              "         [ 7.],\n",
              "         [ 8.],\n",
              "         [ 9.],\n",
              "         [10.]]),\n",
              " torch.Size([10, 1]))"
            ]
          },
          "metadata": {},
          "execution_count": 177
        }
      ]
    },
    {
      "cell_type": "code",
      "source": [
        "z = x.view(2,5)\n",
        "z, z.shape"
      ],
      "metadata": {
        "colab": {
          "base_uri": "https://localhost:8080/"
        },
        "id": "0arlS9RYTLnB",
        "outputId": "953e2452-28fa-4bf3-8256-480fa7c99aef"
      },
      "execution_count": 178,
      "outputs": [
        {
          "output_type": "execute_result",
          "data": {
            "text/plain": [
              "(tensor([[ 1.,  2.,  3.,  4.,  5.],\n",
              "         [ 6.,  7.,  8.,  9., 10.]]),\n",
              " torch.Size([2, 5]))"
            ]
          },
          "metadata": {},
          "execution_count": 178
        }
      ]
    },
    {
      "cell_type": "code",
      "source": [
        "z[:,0] = 5\n",
        "z\n",
        "x"
      ],
      "metadata": {
        "colab": {
          "base_uri": "https://localhost:8080/"
        },
        "id": "P3v31qqpT_5T",
        "outputId": "b8b88089-6c01-4c99-aba3-b88e7301748f"
      },
      "execution_count": 179,
      "outputs": [
        {
          "output_type": "execute_result",
          "data": {
            "text/plain": [
              "tensor([ 5.,  2.,  3.,  4.,  5.,  5.,  7.,  8.,  9., 10.])"
            ]
          },
          "metadata": {},
          "execution_count": 179
        }
      ]
    },
    {
      "cell_type": "code",
      "source": [
        "#Stacks\n",
        "x_stacked = torch.stack([z,z,z],dim=2)\n",
        "x_stacked"
      ],
      "metadata": {
        "colab": {
          "base_uri": "https://localhost:8080/"
        },
        "id": "KRQ0WIagU_69",
        "outputId": "f3cedf55-2d39-4d01-d586-aaf4b5b02840"
      },
      "execution_count": 180,
      "outputs": [
        {
          "output_type": "execute_result",
          "data": {
            "text/plain": [
              "tensor([[[ 5.,  5.,  5.],\n",
              "         [ 2.,  2.,  2.],\n",
              "         [ 3.,  3.,  3.],\n",
              "         [ 4.,  4.,  4.],\n",
              "         [ 5.,  5.,  5.]],\n",
              "\n",
              "        [[ 5.,  5.,  5.],\n",
              "         [ 7.,  7.,  7.],\n",
              "         [ 8.,  8.,  8.],\n",
              "         [ 9.,  9.,  9.],\n",
              "         [10., 10., 10.]]])"
            ]
          },
          "metadata": {},
          "execution_count": 180
        }
      ]
    },
    {
      "cell_type": "code",
      "source": [
        "#Squeeze\n",
        "x = torch.zeros(2, 1, 2, 1, 2)\n",
        "print(f\"x size: {x.size()}\")\n",
        "y = torch.squeeze(x)\n",
        "print(y)\n",
        "print(f\"y size: {y.size()}\")\n",
        "y = torch.squeeze(x, 0)\n",
        "y.size()\n",
        "y = torch.squeeze(x, 1)\n",
        "y.size()\n",
        "y = torch.squeeze(x, (1, 2, 3))\n"
      ],
      "metadata": {
        "colab": {
          "base_uri": "https://localhost:8080/"
        },
        "id": "Wd7DKJJJeAMm",
        "outputId": "d6e44e34-ca96-4233-f726-b58dec7c6d54"
      },
      "execution_count": 181,
      "outputs": [
        {
          "output_type": "stream",
          "name": "stdout",
          "text": [
            "x size: torch.Size([2, 1, 2, 1, 2])\n",
            "tensor([[[0., 0.],\n",
            "         [0., 0.]],\n",
            "\n",
            "        [[0., 0.],\n",
            "         [0., 0.]]])\n",
            "y size: torch.Size([2, 2, 2])\n"
          ]
        }
      ]
    },
    {
      "cell_type": "code",
      "source": [
        "print(f\"Previous tensor: {x_reshaped}\")\n",
        "print(f\"Previous shape: {x_reshaped.shape}\")\n",
        "\n",
        "x_squeezed = x_reshaped.squeeze()\n",
        "print(f\"\\nNew Tensor: {x_squeezed}\")\n",
        "print(f\"New Shape: {x_squeezed.shape}\")"
      ],
      "metadata": {
        "colab": {
          "base_uri": "https://localhost:8080/"
        },
        "id": "WQNNqtdMe3zI",
        "outputId": "a1e2d942-157d-4492-b00c-ce42ba288ab2"
      },
      "execution_count": 185,
      "outputs": [
        {
          "output_type": "stream",
          "name": "stdout",
          "text": [
            "Previous tensor: tensor([[ 5.],\n",
            "        [ 2.],\n",
            "        [ 3.],\n",
            "        [ 4.],\n",
            "        [ 5.],\n",
            "        [ 5.],\n",
            "        [ 7.],\n",
            "        [ 8.],\n",
            "        [ 9.],\n",
            "        [10.]])\n",
            "Previous shape: torch.Size([10, 1])\n",
            "\n",
            "New Tensor: tensor([ 5.,  2.,  3.,  4.,  5.,  5.,  7.,  8.,  9., 10.])\n",
            "New Shape: torch.Size([10])\n"
          ]
        }
      ]
    },
    {
      "cell_type": "code",
      "source": [
        "print(f\"Previous target: {x_squeezed}\")\n",
        "print(f\"Previous shape:{x_squeezed.shape}\")\n",
        "x_unsqueezed = x_squeezed.unsqueeze(dim=1)\n",
        "print(f\"\\nNew tensor: {x_unsqueezed}\")\n",
        "print(f\"New shape: {x_unsqueezed.shape}\")\n"
      ],
      "metadata": {
        "colab": {
          "base_uri": "https://localhost:8080/"
        },
        "id": "La6uXD_gy89I",
        "outputId": "335bfaa3-0d35-46b6-cd2e-b06f7f6b279e"
      },
      "execution_count": 194,
      "outputs": [
        {
          "output_type": "stream",
          "name": "stdout",
          "text": [
            "Previous target: tensor([ 5.,  2.,  3.,  4.,  5.,  5.,  7.,  8.,  9., 10.])\n",
            "Previous shape:torch.Size([10])\n",
            "\n",
            "New tensor: tensor([[ 5.],\n",
            "        [ 2.],\n",
            "        [ 3.],\n",
            "        [ 4.],\n",
            "        [ 5.],\n",
            "        [ 5.],\n",
            "        [ 7.],\n",
            "        [ 8.],\n",
            "        [ 9.],\n",
            "        [10.]])\n",
            "New shape: torch.Size([10, 1])\n"
          ]
        }
      ]
    },
    {
      "cell_type": "code",
      "source": [
        "x_original = torch.rand(size=(224,224,3))#height width colours_channels\n",
        "#permute the original to rearrange the axis\n",
        "x_permuted = x_original.permute(2,0,1)\n",
        "print(f\"Previous shape: { x_original.shape}\")\n",
        "print(f\"New shape: {x_permuted.shape}\")"
      ],
      "metadata": {
        "colab": {
          "base_uri": "https://localhost:8080/"
        },
        "id": "iRSbJ8fD14YA",
        "outputId": "3442e715-ceef-4cd1-c732-64782085275c"
      },
      "execution_count": 196,
      "outputs": [
        {
          "output_type": "stream",
          "name": "stdout",
          "text": [
            "Previous shape: torch.Size([224, 224, 3])\n",
            "New shape: torch.Size([3, 224, 224])\n"
          ]
        }
      ]
    },
    {
      "cell_type": "code",
      "source": [
        "x_original[0,0,0] =7222\n",
        "#x_permuted\n",
        "print(x_original[0,0,0] ,x_permuted[0,0,0] )"
      ],
      "metadata": {
        "colab": {
          "base_uri": "https://localhost:8080/"
        },
        "id": "Nr3Zzzmi2EU_",
        "outputId": "ad4126c7-976a-4798-8cd6-2357571ca9a7"
      },
      "execution_count": 209,
      "outputs": [
        {
          "output_type": "stream",
          "name": "stdout",
          "text": [
            "tensor(7222.) tensor(7222.)\n"
          ]
        }
      ]
    },
    {
      "cell_type": "code",
      "source": [
        "#Indexing with Pytorch is similar to NumPy\n",
        "import torch\n",
        "x = torch.arange(1,10).reshape(1,3,3)\n",
        "x, x.shape"
      ],
      "metadata": {
        "colab": {
          "base_uri": "https://localhost:8080/"
        },
        "id": "XhoRmI3g27ai",
        "outputId": "834f4ae8-508e-4c09-8e91-45a3937b5c47"
      },
      "execution_count": 212,
      "outputs": [
        {
          "output_type": "execute_result",
          "data": {
            "text/plain": [
              "(tensor([[[1, 2, 3],\n",
              "          [4, 5, 6],\n",
              "          [7, 8, 9]]]),\n",
              " torch.Size([1, 3, 3]))"
            ]
          },
          "metadata": {},
          "execution_count": 212
        }
      ]
    },
    {
      "cell_type": "code",
      "source": [
        "x[0][2]"
      ],
      "metadata": {
        "colab": {
          "base_uri": "https://localhost:8080/"
        },
        "id": "vitI12Z24PoH",
        "outputId": "448f732c-8fa3-4315-ea98-0b03d8c0dfcd"
      },
      "execution_count": 218,
      "outputs": [
        {
          "output_type": "execute_result",
          "data": {
            "text/plain": [
              "tensor([7, 8, 9])"
            ]
          },
          "metadata": {},
          "execution_count": 218
        }
      ]
    },
    {
      "cell_type": "code",
      "source": [
        "x[0][1][2]"
      ],
      "metadata": {
        "colab": {
          "base_uri": "https://localhost:8080/"
        },
        "id": "xYHbwBrn4Xis",
        "outputId": "b549182c-0d31-4f08-c8d2-7d422399b7ab"
      },
      "execution_count": 223,
      "outputs": [
        {
          "output_type": "execute_result",
          "data": {
            "text/plain": [
              "tensor(6)"
            ]
          },
          "metadata": {},
          "execution_count": 223
        }
      ]
    },
    {
      "cell_type": "code",
      "source": [
        "x[:,:,2]"
      ],
      "metadata": {
        "colab": {
          "base_uri": "https://localhost:8080/"
        },
        "id": "XkKW3CSs4vrp",
        "outputId": "fa047a99-9202-4a25-c433-efab19fdebe5"
      },
      "execution_count": 238,
      "outputs": [
        {
          "output_type": "execute_result",
          "data": {
            "text/plain": [
              "tensor([[3, 6, 9]])"
            ]
          },
          "metadata": {},
          "execution_count": 238
        }
      ]
    },
    {
      "cell_type": "code",
      "source": [],
      "metadata": {
        "id": "AtcLkw645OVo"
      },
      "execution_count": null,
      "outputs": []
    }
  ],
  "metadata": {
    "colab": {
      "provenance": [],
      "authorship_tag": "ABX9TyMPOsRGUwID8lsA55LL+nkR",
      "include_colab_link": true
    },
    "kernelspec": {
      "display_name": "Python 3",
      "name": "python3"
    },
    "language_info": {
      "name": "python"
    }
  },
  "nbformat": 4,
  "nbformat_minor": 0
}