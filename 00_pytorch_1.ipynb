{
  "cells": [
    {
      "cell_type": "markdown",
      "metadata": {
        "id": "view-in-github",
        "colab_type": "text"
      },
      "source": [
        "<a href=\"https://colab.research.google.com/github/cpernot/Learn_pytorch/blob/main/00_pytorch_1.ipynb\" target=\"_parent\"><img src=\"https://colab.research.google.com/assets/colab-badge.svg\" alt=\"Open In Colab\"/></a>"
      ]
    },
    {
      "cell_type": "code",
      "execution_count": 55,
      "metadata": {
        "colab": {
          "base_uri": "https://localhost:8080/"
        },
        "id": "wRKRyRBcWzIj",
        "outputId": "71c685c9-abb3-478d-c995-4700a91dd298"
      },
      "outputs": [
        {
          "output_type": "stream",
          "name": "stdout",
          "text": [
            "hello\n"
          ]
        }
      ],
      "source": [
        "print (\"hello\")\n"
      ]
    },
    {
      "cell_type": "code",
      "execution_count": 56,
      "metadata": {
        "id": "4Gwp8lB9W9V9",
        "colab": {
          "base_uri": "https://localhost:8080/"
        },
        "outputId": "91be3f54-10e3-4b3b-84a0-7454f2007c01"
      },
      "outputs": [
        {
          "output_type": "stream",
          "name": "stdout",
          "text": [
            "/bin/bash: line 1: nvidia-smi: command not found\n"
          ]
        }
      ],
      "source": [
        "!nvidia-smi"
      ]
    },
    {
      "cell_type": "code",
      "source": [
        "import torch\n",
        "print(torch.__version__)\n",
        "import pandas as pd\n",
        "import numpy as np\n",
        "import matplotlib.pyplot as plt"
      ],
      "metadata": {
        "colab": {
          "base_uri": "https://localhost:8080/"
        },
        "id": "lASbLdOxYWmv",
        "outputId": "ffcb4179-1888-4688-b360-86bfcec5a1a9"
      },
      "execution_count": 57,
      "outputs": [
        {
          "output_type": "stream",
          "name": "stdout",
          "text": [
            "2.5.1+cu121\n"
          ]
        }
      ]
    },
    {
      "cell_type": "code",
      "source": [],
      "metadata": {
        "id": "hEb51oYlYw3C"
      },
      "execution_count": 57,
      "outputs": []
    },
    {
      "cell_type": "code",
      "source": [
        "## Introduction to Tensors"
      ],
      "metadata": {
        "id": "tU89kFRVxmYr"
      },
      "execution_count": 58,
      "outputs": []
    },
    {
      "cell_type": "code",
      "source": [
        "scalar = torch.tensor(7)\n",
        "scalar"
      ],
      "metadata": {
        "colab": {
          "base_uri": "https://localhost:8080/"
        },
        "id": "aLvPOz_Fx7E8",
        "outputId": "60f1f082-9ac9-4eb5-cf5d-efc8ede33bc2"
      },
      "execution_count": 59,
      "outputs": [
        {
          "output_type": "execute_result",
          "data": {
            "text/plain": [
              "tensor(7)"
            ]
          },
          "metadata": {},
          "execution_count": 59
        }
      ]
    },
    {
      "cell_type": "code",
      "source": [
        "scalar.ndim"
      ],
      "metadata": {
        "colab": {
          "base_uri": "https://localhost:8080/"
        },
        "id": "D2G6zftGyCUD",
        "outputId": "3b5dc4e9-af77-4ea2-b941-c1a32f62dd0b"
      },
      "execution_count": 60,
      "outputs": [
        {
          "output_type": "execute_result",
          "data": {
            "text/plain": [
              "0"
            ]
          },
          "metadata": {},
          "execution_count": 60
        }
      ]
    },
    {
      "cell_type": "code",
      "source": [
        "scalar.item()"
      ],
      "metadata": {
        "colab": {
          "base_uri": "https://localhost:8080/"
        },
        "id": "lmKygJd3yGFH",
        "outputId": "9718c7e7-5f41-41bb-f656-84aaf9c0229f"
      },
      "execution_count": 61,
      "outputs": [
        {
          "output_type": "execute_result",
          "data": {
            "text/plain": [
              "7"
            ]
          },
          "metadata": {},
          "execution_count": 61
        }
      ]
    },
    {
      "cell_type": "code",
      "source": [
        "MATRIX = torch.tensor([[1,1],[2,2]])\n",
        "print(MATRIX.ndim)\n",
        "print(MATRIX.shape)\n",
        "TENSOR =torch.tensor([[[1,2,3,4],[2,2,2,2],[3,3,3,3]],\n",
        "                      [[1,2,3,4],[2,2,2,2],[3,3,3,3]]])\n",
        "print(TENSOR.ndim)\n",
        "print(TENSOR.shape)"
      ],
      "metadata": {
        "colab": {
          "base_uri": "https://localhost:8080/"
        },
        "id": "36aPHMDdyb6T",
        "outputId": "ac7a3359-cec8-4139-bfff-03537f5c0149"
      },
      "execution_count": 62,
      "outputs": [
        {
          "output_type": "stream",
          "name": "stdout",
          "text": [
            "2\n",
            "torch.Size([2, 2])\n",
            "3\n",
            "torch.Size([2, 3, 4])\n"
          ]
        }
      ]
    },
    {
      "cell_type": "markdown",
      "source": [
        "###Random Tensors"
      ],
      "metadata": {
        "id": "W-I2X4-2CODq"
      }
    },
    {
      "cell_type": "markdown",
      "source": [
        "## #Create a random tensor of size (3,4)"
      ],
      "metadata": {
        "id": "CGCYmNpwFUQ7"
      }
    },
    {
      "cell_type": "code",
      "source": [
        "random_tensor = torch.rand(2,4,3)\n",
        "random_tensor\n",
        "print(random_tensor.ndim)\n",
        "print(random_tensor.shape)"
      ],
      "metadata": {
        "colab": {
          "base_uri": "https://localhost:8080/"
        },
        "id": "IdvZXKTzFtri",
        "outputId": "b865c969-4be7-4934-c8e1-84dd61031c24"
      },
      "execution_count": 63,
      "outputs": [
        {
          "output_type": "stream",
          "name": "stdout",
          "text": [
            "3\n",
            "torch.Size([2, 4, 3])\n"
          ]
        }
      ]
    },
    {
      "cell_type": "code",
      "source": [
        "mytensor = torch.rand(size=(1,2))\n",
        "print(mytensor)"
      ],
      "metadata": {
        "colab": {
          "base_uri": "https://localhost:8080/"
        },
        "id": "w867kVkrF7kr",
        "outputId": "a785cfda-b5ac-42a9-dd22-eed0eb413be3"
      },
      "execution_count": 64,
      "outputs": [
        {
          "output_type": "stream",
          "name": "stdout",
          "text": [
            "tensor([[0.6981, 0.6639]])\n"
          ]
        }
      ]
    },
    {
      "cell_type": "code",
      "source": [
        "zeros = torch.zeros(3,3,3)\n",
        "zeros.dtype\n",
        "ones = torch.ones(2,2,1)\n",
        "ones"
      ],
      "metadata": {
        "colab": {
          "base_uri": "https://localhost:8080/"
        },
        "id": "7ZeSFh2UGL3M",
        "outputId": "2e8a49ed-2470-473e-a6a5-e500085b23cd"
      },
      "execution_count": 65,
      "outputs": [
        {
          "output_type": "execute_result",
          "data": {
            "text/plain": [
              "tensor([[[1.],\n",
              "         [1.]],\n",
              "\n",
              "        [[1.],\n",
              "         [1.]]])"
            ]
          },
          "metadata": {},
          "execution_count": 65
        }
      ]
    },
    {
      "cell_type": "code",
      "source": [
        "#creating a range of Tensor\n",
        "torch.arange(1,11)\n",
        "onetoten = torch.arange(start = 0, end = 10, step = 2)\n",
        "onetoten"
      ],
      "metadata": {
        "colab": {
          "base_uri": "https://localhost:8080/"
        },
        "id": "BQGYwlCSHo_X",
        "outputId": "a74b18b3-d497-43ec-9d3f-5e31917ed52a"
      },
      "execution_count": 66,
      "outputs": [
        {
          "output_type": "execute_result",
          "data": {
            "text/plain": [
              "tensor([0, 2, 4, 6, 8])"
            ]
          },
          "metadata": {},
          "execution_count": 66
        }
      ]
    },
    {
      "cell_type": "code",
      "source": [
        "#creating tensors like\n",
        "ten_zeros = torch.zeros_like(input =onetoten)\n",
        "ten_zeros"
      ],
      "metadata": {
        "colab": {
          "base_uri": "https://localhost:8080/"
        },
        "id": "8IvaqF5WIGub",
        "outputId": "c52ee5d1-dca0-4611-8efd-a58ce8b8ccb5"
      },
      "execution_count": 67,
      "outputs": [
        {
          "output_type": "execute_result",
          "data": {
            "text/plain": [
              "tensor([0, 0, 0, 0, 0])"
            ]
          },
          "metadata": {},
          "execution_count": 67
        }
      ]
    },
    {
      "cell_type": "markdown",
      "source": [
        "#Tensor Datatype\n",
        "***Note::: Tensor datatypes is one of the 3 big errors in Pytorch\n",
        "(the other two are: device, shape)"
      ],
      "metadata": {
        "id": "L7fihjWoI2nk"
      }
    },
    {
      "cell_type": "code",
      "source": [
        "float_32_tensor = torch.tensor([3.0001,6,9],\n",
        "                               dtype = None,\n",
        "                               device=None,\n",
        "                               requires_grad = False)\n",
        "float_16_tensor = float_32_tensor.type(torch.float16)\n",
        "float_16_tensor.dtype"
      ],
      "metadata": {
        "colab": {
          "base_uri": "https://localhost:8080/"
        },
        "id": "8almwS3DJQG-",
        "outputId": "b9028b9b-03fb-4886-c799-0606333ddf2f"
      },
      "execution_count": 68,
      "outputs": [
        {
          "output_type": "execute_result",
          "data": {
            "text/plain": [
              "torch.float16"
            ]
          },
          "metadata": {},
          "execution_count": 68
        }
      ]
    },
    {
      "cell_type": "code",
      "source": [
        "float_32_tensor * float_16_tensor"
      ],
      "metadata": {
        "colab": {
          "base_uri": "https://localhost:8080/"
        },
        "id": "K5vltX85JdCu",
        "outputId": "30f64304-b2ca-41d5-9255-eacee379ffb6"
      },
      "execution_count": 69,
      "outputs": [
        {
          "output_type": "execute_result",
          "data": {
            "text/plain": [
              "tensor([ 9.0003, 36.0000, 81.0000])"
            ]
          },
          "metadata": {},
          "execution_count": 69
        }
      ]
    },
    {
      "cell_type": "code",
      "source": [
        "int_32_tensor = torch.tensor([3.0031,6,9], dtype = torch.int32)\n",
        "int_32_tensor"
      ],
      "metadata": {
        "colab": {
          "base_uri": "https://localhost:8080/"
        },
        "id": "72ScbA9TMCec",
        "outputId": "151f3b1b-7349-45da-a170-a34a2644fa25"
      },
      "execution_count": 70,
      "outputs": [
        {
          "output_type": "execute_result",
          "data": {
            "text/plain": [
              "tensor([3, 6, 9], dtype=torch.int32)"
            ]
          },
          "metadata": {},
          "execution_count": 70
        }
      ]
    },
    {
      "cell_type": "code",
      "source": [
        "some_tensor = torch.rand(3,4)\n",
        "some_tensor"
      ],
      "metadata": {
        "colab": {
          "base_uri": "https://localhost:8080/"
        },
        "id": "2i32eikClAny",
        "outputId": "823949db-c759-4d40-b4f2-dc96f5464b70"
      },
      "execution_count": 71,
      "outputs": [
        {
          "output_type": "execute_result",
          "data": {
            "text/plain": [
              "tensor([[0.8592, 0.1221, 0.8158, 0.7830],\n",
              "        [0.1342, 0.6268, 0.1775, 0.9452],\n",
              "        [0.9777, 0.2392, 0.6139, 0.9712]])"
            ]
          },
          "metadata": {},
          "execution_count": 71
        }
      ]
    },
    {
      "cell_type": "code",
      "source": [
        "print(some_tensor)\n",
        "print(f'Data type of tensor: {some_tensor.dtype}')\n",
        "print(f\"Size of tensor: {some_tensor.size}\")\n",
        "print(f\"Shape of tensor: {some_tensor.shape}\")\n",
        "print(f\"Device of tensor: {some_tensor.device}\")"
      ],
      "metadata": {
        "colab": {
          "base_uri": "https://localhost:8080/"
        },
        "id": "FEVq_AJhlbDc",
        "outputId": "e2eaec0f-5ffc-4213-b1c6-4309db6734f3"
      },
      "execution_count": 72,
      "outputs": [
        {
          "output_type": "stream",
          "name": "stdout",
          "text": [
            "tensor([[0.8592, 0.1221, 0.8158, 0.7830],\n",
            "        [0.1342, 0.6268, 0.1775, 0.9452],\n",
            "        [0.9777, 0.2392, 0.6139, 0.9712]])\n",
            "Data type of tensor: torch.float32\n",
            "Size of tensor: <built-in method size of Tensor object at 0x7a3ced57c230>\n",
            "Shape of tensor: torch.Size([3, 4])\n",
            "Device of tensor: cpu\n"
          ]
        }
      ]
    },
    {
      "cell_type": "code",
      "source": [
        "#Tensor operations\n",
        "#include addition, substraction, multiplication(element-wise), division, Matrix multiplication\n",
        "tensor = torch.tensor([1,2,3])\n",
        "print(tensor + 10)\n",
        "print(tensor * 2)\n",
        "print(tensor -10)\n",
        "print(torch.mul(tensor,10))\n",
        "#Check Math is Fun and check Matrix multiplication(dot product)\n",
        "print(torch.dot(tensor,tensor))\n",
        "print(torch.matmul(tensor,tensor))\n",
        "print(tensor @ tensor)\n",
        "tensor * tensor\n",
        "# %%time\n",
        "value = 0\n",
        "for i in range(len(tensor)):\n",
        "  value += tensor[i]*tensor[i]\n",
        "print(value)\n",
        "\n"
      ],
      "metadata": {
        "colab": {
          "base_uri": "https://localhost:8080/"
        },
        "id": "0iGK9GQPlx1r",
        "outputId": "28a80ffe-a19b-49cf-e4bf-ed47e02cb98a"
      },
      "execution_count": 73,
      "outputs": [
        {
          "output_type": "stream",
          "name": "stdout",
          "text": [
            "tensor([11, 12, 13])\n",
            "tensor([2, 4, 6])\n",
            "tensor([-9, -8, -7])\n",
            "tensor([10, 20, 30])\n",
            "tensor(14)\n",
            "tensor(14)\n",
            "tensor(14)\n",
            "tensor(14)\n"
          ]
        }
      ]
    },
    {
      "cell_type": "code",
      "source": [
        "#Common error is shape error\n",
        "#Two rules for matrix multiplication\n",
        "#inner dimensions must match\n",
        "#result matrix has shape of outer dimensions\n",
        "print(torch.rand(3,2))\n",
        "print(torch.rand(2,3))\n",
        "print(torch.matmul(torch.rand(1,2),torch.rand(2,1)))"
      ],
      "metadata": {
        "colab": {
          "base_uri": "https://localhost:8080/"
        },
        "id": "4IVhM1EonHp-",
        "outputId": "9870cd42-dea0-49ad-fcc2-0bd1cb40acc1"
      },
      "execution_count": 74,
      "outputs": [
        {
          "output_type": "stream",
          "name": "stdout",
          "text": [
            "tensor([[0.5790, 0.8285],\n",
            "        [0.4317, 0.2957],\n",
            "        [0.0998, 0.7108]])\n",
            "tensor([[0.1810, 0.5863, 0.5741],\n",
            "        [0.4347, 0.3977, 0.9637]])\n",
            "tensor([[0.2488]])\n"
          ]
        }
      ]
    },
    {
      "cell_type": "code",
      "source": [
        "tensor_A = torch.tensor([[1,2],\n",
        "                        [3,4],\n",
        "                        [5,6]])\n",
        "tensor_B = torch.tensor([[7,10],\n",
        "                        [8,11],\n",
        "                        [9,12]])\n",
        "# transpose to switch axes or dimension of tensor\n",
        "tensor_B.T, tensor_B.T.shape\n",
        "torch.mm(tensor_A, tensor_B.T) # same as .matmul\n",
        "print(f\"Original Shapes: Tensor_A = {tensor_A.shape}, tensor_B = { tensor_B.shape}\")\n",
        "print(f\"New Shapes: Tensor_A = {tensor_A.shape}, tensor_B = { tensor_B.T.shape}\")\n",
        "print(\"Output:\")\n",
        "print(torch.mm(tensor_A,tensor_B.T))\n"
      ],
      "metadata": {
        "colab": {
          "base_uri": "https://localhost:8080/"
        },
        "id": "EWyXet4YrHMb",
        "outputId": "b8e7fea2-e913-4377-e4d3-afa447ef80a3"
      },
      "execution_count": 75,
      "outputs": [
        {
          "output_type": "stream",
          "name": "stdout",
          "text": [
            "Original Shapes: Tensor_A = torch.Size([3, 2]), tensor_B = torch.Size([3, 2])\n",
            "New Shapes: Tensor_A = torch.Size([3, 2]), tensor_B = torch.Size([2, 3])\n",
            "Output:\n",
            "tensor([[ 27,  30,  33],\n",
            "        [ 61,  68,  75],\n",
            "        [ 95, 106, 117]])\n"
          ]
        }
      ]
    },
    {
      "cell_type": "code",
      "source": [
        "#finding min, max, mean, sum, etc (tensor aggregation)\n",
        "x = torch.arange(0,100,10)\n",
        "print(x.dtype)\n",
        "torch.max(x),x.min()\n",
        "torch.mean(x.type(torch.float32)),x.type(torch.float32).mean()"
      ],
      "metadata": {
        "colab": {
          "base_uri": "https://localhost:8080/"
        },
        "id": "l3eKGv9fGxjR",
        "outputId": "6c3b748d-172e-47b0-f8b9-22271422def4"
      },
      "execution_count": 76,
      "outputs": [
        {
          "output_type": "stream",
          "name": "stdout",
          "text": [
            "torch.int64\n"
          ]
        },
        {
          "output_type": "execute_result",
          "data": {
            "text/plain": [
              "(tensor(45.), tensor(45.))"
            ]
          },
          "metadata": {},
          "execution_count": 76
        }
      ]
    },
    {
      "cell_type": "code",
      "source": [
        "torch.sum(x), x.sum()"
      ],
      "metadata": {
        "colab": {
          "base_uri": "https://localhost:8080/"
        },
        "id": "gKzKx-adG5Il",
        "outputId": "eca80a11-2487-4b0b-e250-be4dfd3f260f"
      },
      "execution_count": 77,
      "outputs": [
        {
          "output_type": "execute_result",
          "data": {
            "text/plain": [
              "(tensor(450), tensor(450))"
            ]
          },
          "metadata": {},
          "execution_count": 77
        }
      ]
    },
    {
      "cell_type": "code",
      "source": [
        "#finding position of min and max\n",
        "print(x.argmin(),x.argmax())\n",
        "x[0]\n"
      ],
      "metadata": {
        "colab": {
          "base_uri": "https://localhost:8080/"
        },
        "id": "75LbhG6eIT7n",
        "outputId": "888ca6a7-f696-4a0d-cc04-e8cfb56ab77d"
      },
      "execution_count": 78,
      "outputs": [
        {
          "output_type": "stream",
          "name": "stdout",
          "text": [
            "tensor(0) tensor(9)\n"
          ]
        },
        {
          "output_type": "execute_result",
          "data": {
            "text/plain": [
              "tensor(0)"
            ]
          },
          "metadata": {},
          "execution_count": 78
        }
      ]
    },
    {
      "cell_type": "code",
      "source": [
        "#Reshaping , View(same memory as original tensor),Stacking(combine: .stack, .vstack,.hstack)\n",
        "#Squeeze: remove all '1' dimensions\n",
        "#Unsqueeze: add a '1' dimension\n",
        "import torch\n",
        "x = torch.arange(1.,11.)\n",
        "x, x.shape"
      ],
      "metadata": {
        "colab": {
          "base_uri": "https://localhost:8080/"
        },
        "id": "RATUnqPFQsE6",
        "outputId": "966c61c8-6323-424b-9e2f-804cc86c0bda"
      },
      "execution_count": 90,
      "outputs": [
        {
          "output_type": "execute_result",
          "data": {
            "text/plain": [
              "(tensor([ 1.,  2.,  3.,  4.,  5.,  6.,  7.,  8.,  9., 10.]), torch.Size([10]))"
            ]
          },
          "metadata": {},
          "execution_count": 90
        }
      ]
    },
    {
      "cell_type": "code",
      "source": [
        "x_reshaped = x.reshape(1,10)\n",
        "x_reshaped, x_reshaped.shape"
      ],
      "metadata": {
        "colab": {
          "base_uri": "https://localhost:8080/"
        },
        "id": "oWSh-kZnSziz",
        "outputId": "e3a2a61d-ae73-4695-926b-cb41d3c6f614"
      },
      "execution_count": 92,
      "outputs": [
        {
          "output_type": "execute_result",
          "data": {
            "text/plain": [
              "(tensor([[ 1.,  2.,  3.,  4.,  5.,  6.,  7.,  8.,  9., 10.]]),\n",
              " torch.Size([1, 10]))"
            ]
          },
          "metadata": {},
          "execution_count": 92
        }
      ]
    },
    {
      "cell_type": "code",
      "source": [
        "x_reshaped = x.reshape(9,1)\n",
        "x_reshaped, x_reshaped.shape"
      ],
      "metadata": {
        "colab": {
          "base_uri": "https://localhost:8080/"
        },
        "id": "i-drcugqS5jG",
        "outputId": "ebc5fcc5-d16e-4fd6-f341-ebd31e8abab2"
      },
      "execution_count": 89,
      "outputs": [
        {
          "output_type": "execute_result",
          "data": {
            "text/plain": [
              "(tensor([[1.],\n",
              "         [2.],\n",
              "         [3.],\n",
              "         [4.],\n",
              "         [5.],\n",
              "         [6.],\n",
              "         [7.],\n",
              "         [8.],\n",
              "         [9.]]),\n",
              " torch.Size([9, 1]))"
            ]
          },
          "metadata": {},
          "execution_count": 89
        }
      ]
    },
    {
      "cell_type": "code",
      "source": [
        "z = x.view(2,5)\n",
        "z, z.shape"
      ],
      "metadata": {
        "colab": {
          "base_uri": "https://localhost:8080/"
        },
        "id": "0arlS9RYTLnB",
        "outputId": "d32f771f-d5dd-46b4-8b3e-221bc6e125bf"
      },
      "execution_count": 99,
      "outputs": [
        {
          "output_type": "execute_result",
          "data": {
            "text/plain": [
              "(tensor([[ 1.,  2.,  3.,  4.,  5.],\n",
              "         [ 6.,  7.,  8.,  9., 10.]]),\n",
              " torch.Size([2, 5]))"
            ]
          },
          "metadata": {},
          "execution_count": 99
        }
      ]
    },
    {
      "cell_type": "code",
      "source": [
        "z[:,0] = 5\n",
        "z\n",
        "x"
      ],
      "metadata": {
        "colab": {
          "base_uri": "https://localhost:8080/"
        },
        "id": "P3v31qqpT_5T",
        "outputId": "36fa8aee-4290-435c-f7dc-c490f57aa426"
      },
      "execution_count": 103,
      "outputs": [
        {
          "output_type": "execute_result",
          "data": {
            "text/plain": [
              "tensor([ 5.,  2.,  3.,  4.,  5.,  5.,  7.,  8.,  9., 10.])"
            ]
          },
          "metadata": {},
          "execution_count": 103
        }
      ]
    },
    {
      "cell_type": "code",
      "source": [
        "#Stacks"
      ],
      "metadata": {
        "id": "KRQ0WIagU_69"
      },
      "execution_count": null,
      "outputs": []
    }
  ],
  "metadata": {
    "colab": {
      "provenance": [],
      "authorship_tag": "ABX9TyOCQF/17j94oMKSodBfHgpr",
      "include_colab_link": true
    },
    "kernelspec": {
      "display_name": "Python 3",
      "name": "python3"
    },
    "language_info": {
      "name": "python"
    }
  },
  "nbformat": 4,
  "nbformat_minor": 0
}